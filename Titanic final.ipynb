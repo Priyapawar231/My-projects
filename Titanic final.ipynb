{
 "cells": [
  {
   "cell_type": "code",
   "execution_count": 1,
   "metadata": {
    "execution": {
     "iopub.execute_input": "2021-08-10T16:24:58.661305Z",
     "iopub.status.busy": "2021-08-10T16:24:58.660997Z",
     "iopub.status.idle": "2021-08-10T16:24:59.677924Z",
     "shell.execute_reply": "2021-08-10T16:24:59.67686Z",
     "shell.execute_reply.started": "2021-08-10T16:24:58.661277Z"
    }
   },
   "outputs": [],
   "source": [
    "# Import  libraries\n",
    "\n",
    "import numpy as np\n",
    "import pandas as pd\n",
    "import seaborn as sns\n",
    "import matplotlib.pyplot as plt\n",
    "import warnings\n",
    "warnings.filterwarnings(\"ignore\")"
   ]
  },
  {
   "cell_type": "code",
   "execution_count": 2,
   "metadata": {
    "execution": {
     "iopub.execute_input": "2021-08-10T16:24:59.680152Z",
     "iopub.status.busy": "2021-08-10T16:24:59.679839Z",
     "iopub.status.idle": "2021-08-10T16:24:59.738987Z",
     "shell.execute_reply": "2021-08-10T16:24:59.738026Z",
     "shell.execute_reply.started": "2021-08-10T16:24:59.680121Z"
    }
   },
   "outputs": [
    {
     "data": {
      "text/html": [
       "<div>\n",
       "<style scoped>\n",
       "    .dataframe tbody tr th:only-of-type {\n",
       "        vertical-align: middle;\n",
       "    }\n",
       "\n",
       "    .dataframe tbody tr th {\n",
       "        vertical-align: top;\n",
       "    }\n",
       "\n",
       "    .dataframe thead th {\n",
       "        text-align: right;\n",
       "    }\n",
       "</style>\n",
       "<table border=\"1\" class=\"dataframe\">\n",
       "  <thead>\n",
       "    <tr style=\"text-align: right;\">\n",
       "      <th></th>\n",
       "      <th>PassengerId</th>\n",
       "      <th>Survived</th>\n",
       "      <th>Pclass</th>\n",
       "      <th>Name</th>\n",
       "      <th>Sex</th>\n",
       "      <th>Age</th>\n",
       "      <th>SibSp</th>\n",
       "      <th>Parch</th>\n",
       "      <th>Ticket</th>\n",
       "      <th>Fare</th>\n",
       "      <th>Cabin</th>\n",
       "      <th>Embarked</th>\n",
       "    </tr>\n",
       "  </thead>\n",
       "  <tbody>\n",
       "    <tr>\n",
       "      <td>0</td>\n",
       "      <td>1</td>\n",
       "      <td>0</td>\n",
       "      <td>3</td>\n",
       "      <td>Braund, Mr. Owen Harris</td>\n",
       "      <td>male</td>\n",
       "      <td>22.0</td>\n",
       "      <td>1</td>\n",
       "      <td>0</td>\n",
       "      <td>A/5 21171</td>\n",
       "      <td>7.2500</td>\n",
       "      <td>NaN</td>\n",
       "      <td>S</td>\n",
       "    </tr>\n",
       "    <tr>\n",
       "      <td>1</td>\n",
       "      <td>2</td>\n",
       "      <td>1</td>\n",
       "      <td>1</td>\n",
       "      <td>Cumings, Mrs. John Bradley (Florence Briggs Th...</td>\n",
       "      <td>female</td>\n",
       "      <td>38.0</td>\n",
       "      <td>1</td>\n",
       "      <td>0</td>\n",
       "      <td>PC 17599</td>\n",
       "      <td>71.2833</td>\n",
       "      <td>C85</td>\n",
       "      <td>C</td>\n",
       "    </tr>\n",
       "    <tr>\n",
       "      <td>2</td>\n",
       "      <td>3</td>\n",
       "      <td>1</td>\n",
       "      <td>3</td>\n",
       "      <td>Heikkinen, Miss. Laina</td>\n",
       "      <td>female</td>\n",
       "      <td>26.0</td>\n",
       "      <td>0</td>\n",
       "      <td>0</td>\n",
       "      <td>STON/O2. 3101282</td>\n",
       "      <td>7.9250</td>\n",
       "      <td>NaN</td>\n",
       "      <td>S</td>\n",
       "    </tr>\n",
       "    <tr>\n",
       "      <td>3</td>\n",
       "      <td>4</td>\n",
       "      <td>1</td>\n",
       "      <td>1</td>\n",
       "      <td>Futrelle, Mrs. Jacques Heath (Lily May Peel)</td>\n",
       "      <td>female</td>\n",
       "      <td>35.0</td>\n",
       "      <td>1</td>\n",
       "      <td>0</td>\n",
       "      <td>113803</td>\n",
       "      <td>53.1000</td>\n",
       "      <td>C123</td>\n",
       "      <td>S</td>\n",
       "    </tr>\n",
       "    <tr>\n",
       "      <td>4</td>\n",
       "      <td>5</td>\n",
       "      <td>0</td>\n",
       "      <td>3</td>\n",
       "      <td>Allen, Mr. William Henry</td>\n",
       "      <td>male</td>\n",
       "      <td>35.0</td>\n",
       "      <td>0</td>\n",
       "      <td>0</td>\n",
       "      <td>373450</td>\n",
       "      <td>8.0500</td>\n",
       "      <td>NaN</td>\n",
       "      <td>S</td>\n",
       "    </tr>\n",
       "  </tbody>\n",
       "</table>\n",
       "</div>"
      ],
      "text/plain": [
       "   PassengerId  Survived  Pclass  \\\n",
       "0            1         0       3   \n",
       "1            2         1       1   \n",
       "2            3         1       3   \n",
       "3            4         1       1   \n",
       "4            5         0       3   \n",
       "\n",
       "                                                Name     Sex   Age  SibSp  \\\n",
       "0                            Braund, Mr. Owen Harris    male  22.0      1   \n",
       "1  Cumings, Mrs. John Bradley (Florence Briggs Th...  female  38.0      1   \n",
       "2                             Heikkinen, Miss. Laina  female  26.0      0   \n",
       "3       Futrelle, Mrs. Jacques Heath (Lily May Peel)  female  35.0      1   \n",
       "4                           Allen, Mr. William Henry    male  35.0      0   \n",
       "\n",
       "   Parch            Ticket     Fare Cabin Embarked  \n",
       "0      0         A/5 21171   7.2500   NaN        S  \n",
       "1      0          PC 17599  71.2833   C85        C  \n",
       "2      0  STON/O2. 3101282   7.9250   NaN        S  \n",
       "3      0            113803  53.1000  C123        S  \n",
       "4      0            373450   8.0500   NaN        S  "
      ]
     },
     "execution_count": 2,
     "metadata": {},
     "output_type": "execute_result"
    }
   ],
   "source": [
    "# Import dataset\n",
    "\n",
    "titanic_data = pd.read_csv(r'C:\\Users\\rksan\\Downloads\\titanic_train.csv')\n",
    "titanic_data.head()"
   ]
  },
  {
   "cell_type": "code",
   "execution_count": 3,
   "metadata": {
    "execution": {
     "iopub.execute_input": "2021-08-10T16:24:59.740855Z",
     "iopub.status.busy": "2021-08-10T16:24:59.740543Z",
     "iopub.status.idle": "2021-08-10T16:24:59.747113Z",
     "shell.execute_reply": "2021-08-10T16:24:59.745793Z",
     "shell.execute_reply.started": "2021-08-10T16:24:59.740827Z"
    }
   },
   "outputs": [
    {
     "data": {
      "text/plain": [
       "(891, 12)"
      ]
     },
     "execution_count": 3,
     "metadata": {},
     "output_type": "execute_result"
    }
   ],
   "source": [
    "# Shape of the dataset\n",
    "\n",
    "titanic_data.shape"
   ]
  },
  {
   "cell_type": "markdown",
   "metadata": {},
   "source": [
    "There are 891 Rows & 12 Columns, According to me columns=[\"PassangerId\",\"Name\",\"Ticket\"] are not useful for the models. So, let's first drop it."
   ]
  },
  {
   "cell_type": "code",
   "execution_count": 4,
   "metadata": {
    "execution": {
     "iopub.execute_input": "2021-08-10T16:24:59.749188Z",
     "iopub.status.busy": "2021-08-10T16:24:59.748783Z",
     "iopub.status.idle": "2021-08-10T16:24:59.774027Z",
     "shell.execute_reply": "2021-08-10T16:24:59.772841Z",
     "shell.execute_reply.started": "2021-08-10T16:24:59.749156Z"
    }
   },
   "outputs": [
    {
     "name": "stdout",
     "output_type": "stream",
     "text": [
      "Shape of the data -->  (891, 9)\n"
     ]
    },
    {
     "data": {
      "text/html": [
       "<div>\n",
       "<style scoped>\n",
       "    .dataframe tbody tr th:only-of-type {\n",
       "        vertical-align: middle;\n",
       "    }\n",
       "\n",
       "    .dataframe tbody tr th {\n",
       "        vertical-align: top;\n",
       "    }\n",
       "\n",
       "    .dataframe thead th {\n",
       "        text-align: right;\n",
       "    }\n",
       "</style>\n",
       "<table border=\"1\" class=\"dataframe\">\n",
       "  <thead>\n",
       "    <tr style=\"text-align: right;\">\n",
       "      <th></th>\n",
       "      <th>Survived</th>\n",
       "      <th>Pclass</th>\n",
       "      <th>Sex</th>\n",
       "      <th>Age</th>\n",
       "      <th>SibSp</th>\n",
       "      <th>Parch</th>\n",
       "      <th>Fare</th>\n",
       "      <th>Cabin</th>\n",
       "      <th>Embarked</th>\n",
       "    </tr>\n",
       "  </thead>\n",
       "  <tbody>\n",
       "    <tr>\n",
       "      <td>0</td>\n",
       "      <td>0</td>\n",
       "      <td>3</td>\n",
       "      <td>male</td>\n",
       "      <td>22.0</td>\n",
       "      <td>1</td>\n",
       "      <td>0</td>\n",
       "      <td>7.2500</td>\n",
       "      <td>NaN</td>\n",
       "      <td>S</td>\n",
       "    </tr>\n",
       "    <tr>\n",
       "      <td>1</td>\n",
       "      <td>1</td>\n",
       "      <td>1</td>\n",
       "      <td>female</td>\n",
       "      <td>38.0</td>\n",
       "      <td>1</td>\n",
       "      <td>0</td>\n",
       "      <td>71.2833</td>\n",
       "      <td>C85</td>\n",
       "      <td>C</td>\n",
       "    </tr>\n",
       "    <tr>\n",
       "      <td>2</td>\n",
       "      <td>1</td>\n",
       "      <td>3</td>\n",
       "      <td>female</td>\n",
       "      <td>26.0</td>\n",
       "      <td>0</td>\n",
       "      <td>0</td>\n",
       "      <td>7.9250</td>\n",
       "      <td>NaN</td>\n",
       "      <td>S</td>\n",
       "    </tr>\n",
       "    <tr>\n",
       "      <td>3</td>\n",
       "      <td>1</td>\n",
       "      <td>1</td>\n",
       "      <td>female</td>\n",
       "      <td>35.0</td>\n",
       "      <td>1</td>\n",
       "      <td>0</td>\n",
       "      <td>53.1000</td>\n",
       "      <td>C123</td>\n",
       "      <td>S</td>\n",
       "    </tr>\n",
       "    <tr>\n",
       "      <td>4</td>\n",
       "      <td>0</td>\n",
       "      <td>3</td>\n",
       "      <td>male</td>\n",
       "      <td>35.0</td>\n",
       "      <td>0</td>\n",
       "      <td>0</td>\n",
       "      <td>8.0500</td>\n",
       "      <td>NaN</td>\n",
       "      <td>S</td>\n",
       "    </tr>\n",
       "  </tbody>\n",
       "</table>\n",
       "</div>"
      ],
      "text/plain": [
       "   Survived  Pclass     Sex   Age  SibSp  Parch     Fare Cabin Embarked\n",
       "0         0       3    male  22.0      1      0   7.2500   NaN        S\n",
       "1         1       1  female  38.0      1      0  71.2833   C85        C\n",
       "2         1       3  female  26.0      0      0   7.9250   NaN        S\n",
       "3         1       1  female  35.0      1      0  53.1000  C123        S\n",
       "4         0       3    male  35.0      0      0   8.0500   NaN        S"
      ]
     },
     "execution_count": 4,
     "metadata": {},
     "output_type": "execute_result"
    }
   ],
   "source": [
    "# Droping Unusable Columns\n",
    "\n",
    "titanic_data.drop(columns = [\"PassengerId\", \"Name\", \"Ticket\"], axis=1, inplace=True)\n",
    "\n",
    "print(\"Shape of the data --> \",titanic_data.shape)\n",
    "titanic_data.head()"
   ]
  },
  {
   "cell_type": "markdown",
   "metadata": {},
   "source": [
    "Now our data is ready for EDA"
   ]
  },
  {
   "cell_type": "code",
   "execution_count": 5,
   "metadata": {
    "execution": {
     "iopub.execute_input": "2021-08-10T16:24:59.775572Z",
     "iopub.status.busy": "2021-08-10T16:24:59.775289Z",
     "iopub.status.idle": "2021-08-10T16:24:59.799347Z",
     "shell.execute_reply": "2021-08-10T16:24:59.798106Z",
     "shell.execute_reply.started": "2021-08-10T16:24:59.775545Z"
    }
   },
   "outputs": [
    {
     "name": "stdout",
     "output_type": "stream",
     "text": [
      "<class 'pandas.core.frame.DataFrame'>\n",
      "RangeIndex: 891 entries, 0 to 890\n",
      "Data columns (total 9 columns):\n",
      "Survived    891 non-null int64\n",
      "Pclass      891 non-null int64\n",
      "Sex         891 non-null object\n",
      "Age         714 non-null float64\n",
      "SibSp       891 non-null int64\n",
      "Parch       891 non-null int64\n",
      "Fare        891 non-null float64\n",
      "Cabin       204 non-null object\n",
      "Embarked    889 non-null object\n",
      "dtypes: float64(2), int64(4), object(3)\n",
      "memory usage: 62.8+ KB\n"
     ]
    }
   ],
   "source": [
    "# Quick information about dataset\n",
    "\n",
    "titanic_data.info()"
   ]
  },
  {
   "cell_type": "markdown",
   "metadata": {},
   "source": [
    "It seems that there are missing values in our dataset. Let's check how many missing values are available"
   ]
  },
  {
   "cell_type": "code",
   "execution_count": 6,
   "metadata": {
    "execution": {
     "iopub.execute_input": "2021-08-10T16:24:59.803193Z",
     "iopub.status.busy": "2021-08-10T16:24:59.802558Z",
     "iopub.status.idle": "2021-08-10T16:24:59.813365Z",
     "shell.execute_reply": "2021-08-10T16:24:59.812183Z",
     "shell.execute_reply.started": "2021-08-10T16:24:59.803157Z"
    }
   },
   "outputs": [
    {
     "data": {
      "text/plain": [
       "Survived      0\n",
       "Pclass        0\n",
       "Sex           0\n",
       "Age         177\n",
       "SibSp         0\n",
       "Parch         0\n",
       "Fare          0\n",
       "Cabin       687\n",
       "Embarked      2\n",
       "dtype: int64"
      ]
     },
     "execution_count": 6,
     "metadata": {},
     "output_type": "execute_result"
    }
   ],
   "source": [
    "# Missing Values\n",
    "\n",
    "titanic_data.isnull().sum()"
   ]
  },
  {
   "cell_type": "markdown",
   "metadata": {},
   "source": [
    "Columns = [\"Age\", \"Cabin\", \"Embarked\"] have null values. Let's check how many percentages (%) they are covering from the datset."
   ]
  },
  {
   "cell_type": "code",
   "execution_count": 7,
   "metadata": {
    "execution": {
     "iopub.execute_input": "2021-08-10T16:24:59.815895Z",
     "iopub.status.busy": "2021-08-10T16:24:59.815539Z",
     "iopub.status.idle": "2021-08-10T16:24:59.856389Z",
     "shell.execute_reply": "2021-08-10T16:24:59.855643Z",
     "shell.execute_reply.started": "2021-08-10T16:24:59.815862Z"
    }
   },
   "outputs": [
    {
     "name": "stdout",
     "output_type": "stream",
     "text": [
      "\n",
      "Missing Values for Titanic Data :-\n"
     ]
    },
    {
     "data": {
      "text/html": [
       "<div>\n",
       "<style scoped>\n",
       "    .dataframe tbody tr th:only-of-type {\n",
       "        vertical-align: middle;\n",
       "    }\n",
       "\n",
       "    .dataframe tbody tr th {\n",
       "        vertical-align: top;\n",
       "    }\n",
       "\n",
       "    .dataframe thead th {\n",
       "        text-align: right;\n",
       "    }\n",
       "</style>\n",
       "<table border=\"1\" class=\"dataframe\">\n",
       "  <thead>\n",
       "    <tr style=\"text-align: right;\">\n",
       "      <th></th>\n",
       "      <th>Columns</th>\n",
       "      <th>Missing Values</th>\n",
       "      <th>Missing %</th>\n",
       "    </tr>\n",
       "  </thead>\n",
       "  <tbody>\n",
       "    <tr>\n",
       "      <td>1</td>\n",
       "      <td>Survived</td>\n",
       "      <td>0</td>\n",
       "      <td>0.00</td>\n",
       "    </tr>\n",
       "    <tr>\n",
       "      <td>2</td>\n",
       "      <td>Pclass</td>\n",
       "      <td>0</td>\n",
       "      <td>0.00</td>\n",
       "    </tr>\n",
       "    <tr>\n",
       "      <td>3</td>\n",
       "      <td>Sex</td>\n",
       "      <td>0</td>\n",
       "      <td>0.00</td>\n",
       "    </tr>\n",
       "    <tr>\n",
       "      <td>4</td>\n",
       "      <td>Age</td>\n",
       "      <td>177</td>\n",
       "      <td>19.87</td>\n",
       "    </tr>\n",
       "    <tr>\n",
       "      <td>5</td>\n",
       "      <td>SibSp</td>\n",
       "      <td>0</td>\n",
       "      <td>0.00</td>\n",
       "    </tr>\n",
       "    <tr>\n",
       "      <td>6</td>\n",
       "      <td>Parch</td>\n",
       "      <td>0</td>\n",
       "      <td>0.00</td>\n",
       "    </tr>\n",
       "    <tr>\n",
       "      <td>7</td>\n",
       "      <td>Fare</td>\n",
       "      <td>0</td>\n",
       "      <td>0.00</td>\n",
       "    </tr>\n",
       "    <tr>\n",
       "      <td>8</td>\n",
       "      <td>Cabin</td>\n",
       "      <td>687</td>\n",
       "      <td>77.10</td>\n",
       "    </tr>\n",
       "    <tr>\n",
       "      <td>9</td>\n",
       "      <td>Embarked</td>\n",
       "      <td>2</td>\n",
       "      <td>0.22</td>\n",
       "    </tr>\n",
       "  </tbody>\n",
       "</table>\n",
       "</div>"
      ],
      "text/plain": [
       "    Columns  Missing Values  Missing %\n",
       "1  Survived               0       0.00\n",
       "2    Pclass               0       0.00\n",
       "3       Sex               0       0.00\n",
       "4       Age             177      19.87\n",
       "5     SibSp               0       0.00\n",
       "6     Parch               0       0.00\n",
       "7      Fare               0       0.00\n",
       "8     Cabin             687      77.10\n",
       "9  Embarked               2       0.22"
      ]
     },
     "execution_count": 7,
     "metadata": {},
     "output_type": "execute_result"
    }
   ],
   "source": [
    "column_data = titanic_data.isna().sum().keys().tolist()\n",
    "value_data = titanic_data.isna().sum().values.tolist()\n",
    "\n",
    "missing_data = pd.DataFrame(list(zip(column_data, value_data)),columns=[\"Columns\", \"Missing Values\"],index=list(range(1,10)))\n",
    "missing_data[\"Missing %\"] = round(((missing_data[\"Missing Values\"]/titanic_data.shape[0])*100),2)\n",
    "\n",
    "print(\"\\nMissing Values for Titanic Data :-\")\n",
    "missing_data"
   ]
  },
  {
   "cell_type": "markdown",
   "metadata": {},
   "source": [
    "\"Cabin\" is covering 77.10 % of null values which is very high. and other are covering less null values."
   ]
  },
  {
   "cell_type": "code",
   "execution_count": 8,
   "metadata": {
    "execution": {
     "iopub.execute_input": "2021-08-10T16:24:59.857917Z",
     "iopub.status.busy": "2021-08-10T16:24:59.857488Z",
     "iopub.status.idle": "2021-08-10T16:24:59.890703Z",
     "shell.execute_reply": "2021-08-10T16:24:59.889523Z",
     "shell.execute_reply.started": "2021-08-10T16:24:59.857886Z"
    }
   },
   "outputs": [
    {
     "data": {
      "text/html": [
       "<div>\n",
       "<style scoped>\n",
       "    .dataframe tbody tr th:only-of-type {\n",
       "        vertical-align: middle;\n",
       "    }\n",
       "\n",
       "    .dataframe tbody tr th {\n",
       "        vertical-align: top;\n",
       "    }\n",
       "\n",
       "    .dataframe thead th {\n",
       "        text-align: right;\n",
       "    }\n",
       "</style>\n",
       "<table border=\"1\" class=\"dataframe\">\n",
       "  <thead>\n",
       "    <tr style=\"text-align: right;\">\n",
       "      <th></th>\n",
       "      <th>Survived</th>\n",
       "      <th>Pclass</th>\n",
       "      <th>Age</th>\n",
       "      <th>SibSp</th>\n",
       "      <th>Parch</th>\n",
       "      <th>Fare</th>\n",
       "    </tr>\n",
       "  </thead>\n",
       "  <tbody>\n",
       "    <tr>\n",
       "      <td>count</td>\n",
       "      <td>891.000000</td>\n",
       "      <td>891.000000</td>\n",
       "      <td>714.000000</td>\n",
       "      <td>891.000000</td>\n",
       "      <td>891.000000</td>\n",
       "      <td>891.000000</td>\n",
       "    </tr>\n",
       "    <tr>\n",
       "      <td>mean</td>\n",
       "      <td>0.383838</td>\n",
       "      <td>2.308642</td>\n",
       "      <td>29.699118</td>\n",
       "      <td>0.523008</td>\n",
       "      <td>0.381594</td>\n",
       "      <td>32.204208</td>\n",
       "    </tr>\n",
       "    <tr>\n",
       "      <td>std</td>\n",
       "      <td>0.486592</td>\n",
       "      <td>0.836071</td>\n",
       "      <td>14.526497</td>\n",
       "      <td>1.102743</td>\n",
       "      <td>0.806057</td>\n",
       "      <td>49.693429</td>\n",
       "    </tr>\n",
       "    <tr>\n",
       "      <td>min</td>\n",
       "      <td>0.000000</td>\n",
       "      <td>1.000000</td>\n",
       "      <td>0.420000</td>\n",
       "      <td>0.000000</td>\n",
       "      <td>0.000000</td>\n",
       "      <td>0.000000</td>\n",
       "    </tr>\n",
       "    <tr>\n",
       "      <td>25%</td>\n",
       "      <td>0.000000</td>\n",
       "      <td>2.000000</td>\n",
       "      <td>20.125000</td>\n",
       "      <td>0.000000</td>\n",
       "      <td>0.000000</td>\n",
       "      <td>7.910400</td>\n",
       "    </tr>\n",
       "    <tr>\n",
       "      <td>50%</td>\n",
       "      <td>0.000000</td>\n",
       "      <td>3.000000</td>\n",
       "      <td>28.000000</td>\n",
       "      <td>0.000000</td>\n",
       "      <td>0.000000</td>\n",
       "      <td>14.454200</td>\n",
       "    </tr>\n",
       "    <tr>\n",
       "      <td>75%</td>\n",
       "      <td>1.000000</td>\n",
       "      <td>3.000000</td>\n",
       "      <td>38.000000</td>\n",
       "      <td>1.000000</td>\n",
       "      <td>0.000000</td>\n",
       "      <td>31.000000</td>\n",
       "    </tr>\n",
       "    <tr>\n",
       "      <td>max</td>\n",
       "      <td>1.000000</td>\n",
       "      <td>3.000000</td>\n",
       "      <td>80.000000</td>\n",
       "      <td>8.000000</td>\n",
       "      <td>6.000000</td>\n",
       "      <td>512.329200</td>\n",
       "    </tr>\n",
       "  </tbody>\n",
       "</table>\n",
       "</div>"
      ],
      "text/plain": [
       "         Survived      Pclass         Age       SibSp       Parch        Fare\n",
       "count  891.000000  891.000000  714.000000  891.000000  891.000000  891.000000\n",
       "mean     0.383838    2.308642   29.699118    0.523008    0.381594   32.204208\n",
       "std      0.486592    0.836071   14.526497    1.102743    0.806057   49.693429\n",
       "min      0.000000    1.000000    0.420000    0.000000    0.000000    0.000000\n",
       "25%      0.000000    2.000000   20.125000    0.000000    0.000000    7.910400\n",
       "50%      0.000000    3.000000   28.000000    0.000000    0.000000   14.454200\n",
       "75%      1.000000    3.000000   38.000000    1.000000    0.000000   31.000000\n",
       "max      1.000000    3.000000   80.000000    8.000000    6.000000  512.329200"
      ]
     },
     "execution_count": 8,
     "metadata": {},
     "output_type": "execute_result"
    }
   ],
   "source": [
    "# describing the dataset\n",
    "\n",
    "titanic_data.describe()"
   ]
  },
  {
   "cell_type": "markdown",
   "metadata": {},
   "source": [
    "Survive is our target column.\n",
    "some have age and some doesn't have age.\n",
    "Age and Fare column have skewness. \n",
    "Survived is our target column and Pclass,SibSp & Parch looks as classification. \n",
    "So we need to focus on Age & Fare columns for filling null values."
   ]
  },
  {
   "cell_type": "code",
   "execution_count": 9,
   "metadata": {
    "execution": {
     "iopub.execute_input": "2021-08-10T16:24:59.892851Z",
     "iopub.status.busy": "2021-08-10T16:24:59.892405Z",
     "iopub.status.idle": "2021-08-10T16:24:59.908186Z",
     "shell.execute_reply": "2021-08-10T16:24:59.90739Z",
     "shell.execute_reply.started": "2021-08-10T16:24:59.892805Z"
    }
   },
   "outputs": [
    {
     "ename": "SyntaxError",
     "evalue": "invalid syntax (<ipython-input-9-45abc234664f>, line 1)",
     "output_type": "error",
     "traceback": [
      "\u001b[1;36m  File \u001b[1;32m\"<ipython-input-9-45abc234664f>\"\u001b[1;36m, line \u001b[1;32m1\u001b[0m\n\u001b[1;33m    checking the \"0\" values if there are present\u001b[0m\n\u001b[1;37m               ^\u001b[0m\n\u001b[1;31mSyntaxError\u001b[0m\u001b[1;31m:\u001b[0m invalid syntax\n"
     ]
    }
   ],
   "source": [
    " checking the \"0\" values if there are present\n",
    "\n",
    "for col in titanic_data:\n",
    "           print(col +\"  \"+str(titanic_data[titanic_data[col]==0].shape[0]))\n",
    "        "
   ]
  },
  {
   "cell_type": "markdown",
   "metadata": {},
   "source": [
    "I discussed about all column in which 0 is present but Fare column is not a classification column and it has 0 values. Let's analyze it."
   ]
  },
  {
   "cell_type": "code",
   "execution_count": null,
   "metadata": {
    "execution": {
     "iopub.execute_input": "2021-08-10T16:24:59.909889Z",
     "iopub.status.busy": "2021-08-10T16:24:59.909416Z",
     "iopub.status.idle": "2021-08-10T16:24:59.93224Z",
     "shell.execute_reply": "2021-08-10T16:24:59.931177Z",
     "shell.execute_reply.started": "2021-08-10T16:24:59.909857Z"
    }
   },
   "outputs": [],
   "source": [
    "# checking Fare column where 0 values are present\n",
    "\n",
    "titanic_data[titanic_data[\"Fare\"]==0]"
   ]
  },
  {
   "cell_type": "code",
   "execution_count": null,
   "metadata": {
    "execution": {
     "iopub.execute_input": "2021-08-10T16:24:59.933941Z",
     "iopub.status.busy": "2021-08-10T16:24:59.93364Z",
     "iopub.status.idle": "2021-08-10T16:24:59.957375Z",
     "shell.execute_reply": "2021-08-10T16:24:59.956492Z",
     "shell.execute_reply.started": "2021-08-10T16:24:59.933915Z"
    }
   },
   "outputs": [],
   "source": [
    "# describing the categorical data\n",
    "\n",
    "titanic_data.describe(include='object')"
   ]
  },
  {
   "cell_type": "markdown",
   "metadata": {},
   "source": [
    "The frequency of Male is higher than Female, Males have covered 65% data. In Embarked S covered the 644 out of 889."
   ]
  },
  {
   "cell_type": "markdown",
   "metadata": {},
   "source": []
  },
  {
   "cell_type": "code",
   "execution_count": null,
   "metadata": {
    "execution": {
     "iopub.execute_input": "2021-08-10T16:24:59.95898Z",
     "iopub.status.busy": "2021-08-10T16:24:59.958547Z",
     "iopub.status.idle": "2021-08-10T16:25:08.188233Z",
     "shell.execute_reply": "2021-08-10T16:25:08.186861Z",
     "shell.execute_reply.started": "2021-08-10T16:24:59.95895Z"
    }
   },
   "outputs": [],
   "source": [
    "# checking pairplot with Survived\n",
    "\n",
    "plt.figure(figsize=(7,7))\n",
    "sns.pairplot(titanic_data,hue=\"Survived\")"
   ]
  },
  {
   "cell_type": "code",
   "execution_count": null,
   "metadata": {
    "execution": {
     "iopub.execute_input": "2021-08-10T16:25:08.190004Z",
     "iopub.status.busy": "2021-08-10T16:25:08.189551Z",
     "iopub.status.idle": "2021-08-10T16:25:08.603032Z",
     "shell.execute_reply": "2021-08-10T16:25:08.601898Z",
     "shell.execute_reply.started": "2021-08-10T16:25:08.189961Z"
    }
   },
   "outputs": [],
   "source": [
    "# Analyzing \n",
    "\n",
    "sns.catplot(x=\"Age\",y=\"Sex\",data=titanic_data,hue=\"Survived\")"
   ]
  },
  {
   "cell_type": "markdown",
   "metadata": {},
   "source": [
    "It seems that Females are more survive than Males"
   ]
  },
  {
   "cell_type": "code",
   "execution_count": null,
   "metadata": {
    "execution": {
     "iopub.execute_input": "2021-08-10T16:25:08.604925Z",
     "iopub.status.busy": "2021-08-10T16:25:08.604568Z",
     "iopub.status.idle": "2021-08-10T16:25:08.61712Z",
     "shell.execute_reply": "2021-08-10T16:25:08.615798Z",
     "shell.execute_reply.started": "2021-08-10T16:25:08.604893Z"
    }
   },
   "outputs": [],
   "source": [
    "## Handle the Missing Data\n",
    "\n",
    "\n",
    "# Dropna Embarked\n",
    "titanic_data.dropna(subset=[\"Embarked\"],inplace=True)\n",
    "\n",
    "# Filling Age with its mean value\n",
    "titanic_data.fillna(titanic_data[\"Age\"].mean(), inplace=True)\n",
    "\n",
    "# Filling Cabin with 0\n",
    "titanic_data.fillna(titanic_data[\"Cabin\"].mode(),inplace=True)"
   ]
  },
  {
   "cell_type": "code",
   "execution_count": null,
   "metadata": {
    "execution": {
     "iopub.execute_input": "2021-08-10T16:25:08.619314Z",
     "iopub.status.busy": "2021-08-10T16:25:08.618967Z",
     "iopub.status.idle": "2021-08-10T16:25:08.635096Z",
     "shell.execute_reply": "2021-08-10T16:25:08.633941Z",
     "shell.execute_reply.started": "2021-08-10T16:25:08.619284Z"
    }
   },
   "outputs": [],
   "source": [
    "# Check Null Values again\n",
    "\n",
    "titanic_data.isna().sum()"
   ]
  },
  {
   "cell_type": "code",
   "execution_count": null,
   "metadata": {
    "execution": {
     "iopub.execute_input": "2021-08-10T16:25:08.636925Z",
     "iopub.status.busy": "2021-08-10T16:25:08.636565Z",
     "iopub.status.idle": "2021-08-10T16:25:08.654522Z",
     "shell.execute_reply": "2021-08-10T16:25:08.653752Z",
     "shell.execute_reply.started": "2021-08-10T16:25:08.636889Z"
    }
   },
   "outputs": [],
   "source": [
    "#checking the skewness\n",
    "\n",
    "titanic_data.skew()"
   ]
  },
  {
   "cell_type": "markdown",
   "metadata": {},
   "source": [
    "As we discussed that SibSp & Parch are classifiation columns, So I have to go with Fare column for making skewness correct"
   ]
  },
  {
   "cell_type": "code",
   "execution_count": null,
   "metadata": {
    "execution": {
     "iopub.execute_input": "2021-08-10T16:25:08.656135Z",
     "iopub.status.busy": "2021-08-10T16:25:08.655818Z",
     "iopub.status.idle": "2021-08-10T16:25:08.670135Z",
     "shell.execute_reply": "2021-08-10T16:25:08.669186Z",
     "shell.execute_reply.started": "2021-08-10T16:25:08.656102Z"
    }
   },
   "outputs": [],
   "source": [
    "# separate the numerica columns and categorical columns\n",
    "\n",
    "numerical = titanic_data.drop(columns=[\"Sex\", \"Cabin\", \"Embarked\"])\n",
    "categorical = titanic_data[[\"Sex\", \"Cabin\", \"Embarked\"]]"
   ]
  },
  {
   "cell_type": "code",
   "execution_count": null,
   "metadata": {
    "execution": {
     "iopub.execute_input": "2021-08-10T16:25:08.674768Z",
     "iopub.status.busy": "2021-08-10T16:25:08.674169Z",
     "iopub.status.idle": "2021-08-10T16:25:09.912915Z",
     "shell.execute_reply": "2021-08-10T16:25:09.911909Z",
     "shell.execute_reply.started": "2021-08-10T16:25:08.674723Z"
    }
   },
   "outputs": [],
   "source": [
    "# visualizing the skewness with Distplot\n",
    "\n",
    "plt.figure(figsize = (10,15), facecolor='white')\n",
    "graphplot = 1\n",
    "for column in numerical:\n",
    "    if graphplot <=6:\n",
    "        ax = plt.subplot(2,3,graphplot)\n",
    "        sns.distplot(numerical[column])\n",
    "        plt.xlabel(column, fontsize=15)\n",
    "    graphplot+=1\n",
    "plt.show()"
   ]
  },
  {
   "cell_type": "markdown",
   "metadata": {},
   "source": [
    "Fare column has skewness and other column have classification problems"
   ]
  },
  {
   "cell_type": "markdown",
   "metadata": {},
   "source": []
  },
  {
   "cell_type": "code",
   "execution_count": null,
   "metadata": {
    "execution": {
     "iopub.execute_input": "2021-08-10T16:25:09.916603Z",
     "iopub.status.busy": "2021-08-10T16:25:09.915994Z",
     "iopub.status.idle": "2021-08-10T16:25:10.517183Z",
     "shell.execute_reply": "2021-08-10T16:25:10.516384Z",
     "shell.execute_reply.started": "2021-08-10T16:25:09.916556Z"
    }
   },
   "outputs": [],
   "source": [
    "# Let's check the outliers\n",
    "\n",
    "plt.figure(figsize = (15,10), facecolor='white')\n",
    "graphplot = 1\n",
    "for column in numerical:\n",
    "    if graphplot<=6:\n",
    "        ax = plt.subplot(2,3,graphplot)\n",
    "        sns.boxplot(numerical[column])\n",
    "        plt.xlabel(column,fontsize=15)\n",
    "    graphplot+=1\n",
    "plt.show()"
   ]
  },
  {
   "cell_type": "markdown",
   "metadata": {},
   "source": [
    "Outliers are present in Fare column."
   ]
  },
  {
   "cell_type": "code",
   "execution_count": null,
   "metadata": {
    "execution": {
     "iopub.execute_input": "2021-08-10T16:25:10.518596Z",
     "iopub.status.busy": "2021-08-10T16:25:10.518201Z",
     "iopub.status.idle": "2021-08-10T16:25:10.527306Z",
     "shell.execute_reply": "2021-08-10T16:25:10.526351Z",
     "shell.execute_reply.started": "2021-08-10T16:25:10.518566Z"
    }
   },
   "outputs": [],
   "source": [
    "# removing the outliers\n",
    "\n",
    "from scipy.stats import zscore\n",
    "\n",
    "z = np.abs(zscore(numerical))\n",
    "titanic_data = titanic_data[(z<3).all(axis=1)]\n",
    "titanic_data.shape"
   ]
  },
  {
   "cell_type": "code",
   "execution_count": null,
   "metadata": {
    "execution": {
     "iopub.execute_input": "2021-08-10T16:25:10.528843Z",
     "iopub.status.busy": "2021-08-10T16:25:10.528531Z",
     "iopub.status.idle": "2021-08-10T16:25:10.54336Z",
     "shell.execute_reply": "2021-08-10T16:25:10.542201Z",
     "shell.execute_reply.started": "2021-08-10T16:25:10.528805Z"
    }
   },
   "outputs": [],
   "source": [
    "#  checking skewness again\n",
    "\n",
    "titanic_data.skew()"
   ]
  },
  {
   "cell_type": "markdown",
   "metadata": {},
   "source": [
    "Skewness is still pending in Fare column. Let's apply another method"
   ]
  },
  {
   "cell_type": "code",
   "execution_count": null,
   "metadata": {
    "execution": {
     "iopub.execute_input": "2021-08-10T16:25:10.545047Z",
     "iopub.status.busy": "2021-08-10T16:25:10.54473Z",
     "iopub.status.idle": "2021-08-10T16:25:10.583177Z",
     "shell.execute_reply": "2021-08-10T16:25:10.582054Z",
     "shell.execute_reply.started": "2021-08-10T16:25:10.545019Z"
    }
   },
   "outputs": [],
   "source": [
    "# removing the pending skewness\n",
    "\n",
    "for index in titanic_data.skew().index:\n",
    "    if titanic_data.skew().loc[index]>0.5:\n",
    "        titanic_data[index] = np.sqrt(titanic_data[index])\n",
    "    if titanic_data.skew().loc[index]<-0.5:\n",
    "        titanic_data[index] = np.cbrt(titanic_data[index])"
   ]
  },
  {
   "cell_type": "code",
   "execution_count": null,
   "metadata": {
    "execution": {
     "iopub.execute_input": "2021-08-10T16:25:10.584992Z",
     "iopub.status.busy": "2021-08-10T16:25:10.584605Z",
     "iopub.status.idle": "2021-08-10T16:25:10.596031Z",
     "shell.execute_reply": "2021-08-10T16:25:10.594664Z",
     "shell.execute_reply.started": "2021-08-10T16:25:10.584958Z"
    }
   },
   "outputs": [],
   "source": [
    "#  checking skewness again..\n",
    "\n",
    "titanic_data.skew()"
   ]
  },
  {
   "cell_type": "markdown",
   "metadata": {},
   "source": [
    "Skewness is still pending in Fare column. Let's apply Power Transformer to remove it..."
   ]
  },
  {
   "cell_type": "code",
   "execution_count": null,
   "metadata": {
    "execution": {
     "iopub.execute_input": "2021-08-10T16:25:10.598882Z",
     "iopub.status.busy": "2021-08-10T16:25:10.598321Z",
     "iopub.status.idle": "2021-08-10T16:25:10.749952Z",
     "shell.execute_reply": "2021-08-10T16:25:10.749089Z",
     "shell.execute_reply.started": "2021-08-10T16:25:10.59881Z"
    }
   },
   "outputs": [],
   "source": [
    "# Let's apply Power Transformer to remove the skewness\n",
    "\n",
    "from sklearn.preprocessing import PowerTransformer\n",
    "\n",
    "features = [\"Pclass\",\"Age\", \"SibSp\", \"Parch\",\"Fare\"]\n",
    "\n",
    "scaler = PowerTransformer(method='yeo-johnson')\n",
    "titanic_data[features] = scaler.fit_transform(titanic_data[features].values)"
   ]
  },
  {
   "cell_type": "code",
   "execution_count": null,
   "metadata": {
    "execution": {
     "iopub.execute_input": "2021-08-10T16:25:10.752011Z",
     "iopub.status.busy": "2021-08-10T16:25:10.751198Z",
     "iopub.status.idle": "2021-08-10T16:25:10.763038Z",
     "shell.execute_reply": "2021-08-10T16:25:10.761997Z",
     "shell.execute_reply.started": "2021-08-10T16:25:10.75196Z"
    }
   },
   "outputs": [],
   "source": [
    "titanic_data.skew()"
   ]
  },
  {
   "cell_type": "markdown",
   "metadata": {},
   "source": [
    "It seems that skewness has gone from Fare column. Now Let's deal with categorical column."
   ]
  },
  {
   "cell_type": "code",
   "execution_count": null,
   "metadata": {
    "execution": {
     "iopub.execute_input": "2021-08-10T16:25:10.764966Z",
     "iopub.status.busy": "2021-08-10T16:25:10.764431Z",
     "iopub.status.idle": "2021-08-10T16:25:10.771775Z",
     "shell.execute_reply": "2021-08-10T16:25:10.770359Z",
     "shell.execute_reply.started": "2021-08-10T16:25:10.764932Z"
    }
   },
   "outputs": [],
   "source": [
    "# separate the input and output\n",
    "\n",
    "x = titanic_data.drop(\"Survived\", axis=1)\n",
    "y = titanic_data[\"Survived\"]"
   ]
  },
  {
   "cell_type": "code",
   "execution_count": null,
   "metadata": {
    "execution": {
     "iopub.execute_input": "2021-08-10T16:25:10.773763Z",
     "iopub.status.busy": "2021-08-10T16:25:10.773377Z",
     "iopub.status.idle": "2021-08-10T16:25:10.797346Z",
     "shell.execute_reply": "2021-08-10T16:25:10.796551Z",
     "shell.execute_reply.started": "2021-08-10T16:25:10.773722Z"
    }
   },
   "outputs": [],
   "source": [
    "#checking the correlation between features and target\n",
    "\n",
    "x.corrwith(y)"
   ]
  },
  {
   "cell_type": "code",
   "execution_count": null,
   "metadata": {
    "execution": {
     "iopub.execute_input": "2021-08-10T16:25:10.799286Z",
     "iopub.status.busy": "2021-08-10T16:25:10.798661Z",
     "iopub.status.idle": "2021-08-10T16:25:11.006671Z",
     "shell.execute_reply": "2021-08-10T16:25:11.005909Z",
     "shell.execute_reply.started": "2021-08-10T16:25:10.799238Z"
    }
   },
   "outputs": [],
   "source": [
    "# Correlation analysis by ploting a graph between features and target\n",
    "\n",
    "x.corrwith(y).plot(kind='bar',grid=True, figsize=(8,5),rot=60,title=\"Correlation Between Features & Targer\")"
   ]
  },
  {
   "cell_type": "markdown",
   "metadata": {},
   "source": [
    "2 features is correlated in negative and 3 features in correlated in positive but not any features is highly correlated to the target. Now, let's check the multicollinearity between features"
   ]
  },
  {
   "cell_type": "code",
   "execution_count": null,
   "metadata": {
    "execution": {
     "iopub.execute_input": "2021-08-10T16:25:11.008554Z",
     "iopub.status.busy": "2021-08-10T16:25:11.007971Z",
     "iopub.status.idle": "2021-08-10T16:25:11.027935Z",
     "shell.execute_reply": "2021-08-10T16:25:11.026873Z",
     "shell.execute_reply.started": "2021-08-10T16:25:11.008509Z"
    }
   },
   "outputs": [],
   "source": [
    "# Multicollinearity between features\n",
    "\n",
    "corr = titanic_data.corr()\n",
    "corr"
   ]
  },
  {
   "cell_type": "code",
   "execution_count": null,
   "metadata": {
    "execution": {
     "iopub.execute_input": "2021-08-10T16:25:11.030153Z",
     "iopub.status.busy": "2021-08-10T16:25:11.029696Z",
     "iopub.status.idle": "2021-08-10T16:25:11.455836Z",
     "shell.execute_reply": "2021-08-10T16:25:11.454573Z",
     "shell.execute_reply.started": "2021-08-10T16:25:11.030103Z"
    }
   },
   "outputs": [],
   "source": [
    "# Let's plot a heatmap for better analysis the multicollinearity\n",
    "\n",
    "plt.figure(figsize = (10,10))\n",
    "sns.heatmap(corr,cbar=True,square=True,annot=True,cbar_kws={\"shrink\":.82},\n",
    "            annot_kws={\"size\":10},cmap=\"Blues\",fmt=\".2f\",linewidths=.2)\n",
    "plt.xlabel(\"Multicollinearity between features\",fontsize=20)\n",
    "plt.show()"
   ]
  },
  {
   "cell_type": "markdown",
   "metadata": {},
   "source": [
    "Now it is clear that no any single feature is correlated to another feature. Let's check VIF Score for more analysis."
   ]
  },
  {
   "cell_type": "code",
   "execution_count": null,
   "metadata": {
    "execution": {
     "iopub.execute_input": "2021-08-10T16:25:11.457797Z",
     "iopub.status.busy": "2021-08-10T16:25:11.457303Z",
     "iopub.status.idle": "2021-08-10T16:25:11.477148Z",
     "shell.execute_reply": "2021-08-10T16:25:11.476031Z",
     "shell.execute_reply.started": "2021-08-10T16:25:11.457746Z"
    }
   },
   "outputs": [],
   "source": [
    "# Converting categorical column to numerical column using OneHotEncoder\n",
    "\n",
    "cat_to_conv = [\"Sex\", \"Cabin\", \"Embarked\"]\n",
    "\n",
    "titanic_data = pd.get_dummies(titanic_data, columns=cat_to_conv)\n",
    "\n",
    "titanic_data.shape"
   ]
  },
  {
   "cell_type": "code",
   "execution_count": null,
   "metadata": {
    "execution": {
     "iopub.execute_input": "2021-08-10T16:25:11.479288Z",
     "iopub.status.busy": "2021-08-10T16:25:11.478876Z",
     "iopub.status.idle": "2021-08-10T16:25:11.510144Z",
     "shell.execute_reply": "2021-08-10T16:25:11.509144Z",
     "shell.execute_reply.started": "2021-08-10T16:25:11.479191Z"
    }
   },
   "outputs": [],
   "source": [
    "# Dataset after converting categorical columns to numerical columns\n",
    "\n",
    "titanic_data.head()"
   ]
  },
  {
   "cell_type": "code",
   "execution_count": null,
   "metadata": {
    "execution": {
     "iopub.execute_input": "2021-08-10T16:25:11.511803Z",
     "iopub.status.busy": "2021-08-10T16:25:11.511441Z",
     "iopub.status.idle": "2021-08-10T16:25:11.518811Z",
     "shell.execute_reply": "2021-08-10T16:25:11.517691Z",
     "shell.execute_reply.started": "2021-08-10T16:25:11.51177Z"
    }
   },
   "outputs": [],
   "source": [
    "# Let's separate the input and output again..\n",
    "\n",
    "X = titanic_data.drop(columns = [\"Survived\"],axis=1)\n",
    "Y = titanic_data[\"Survived\"]"
   ]
  },
  {
   "cell_type": "code",
   "execution_count": null,
   "metadata": {
    "execution": {
     "iopub.execute_input": "2021-08-10T16:25:11.520414Z",
     "iopub.status.busy": "2021-08-10T16:25:11.520109Z",
     "iopub.status.idle": "2021-08-10T16:25:11.543411Z",
     "shell.execute_reply": "2021-08-10T16:25:11.542328Z",
     "shell.execute_reply.started": "2021-08-10T16:25:11.520378Z"
    }
   },
   "outputs": [],
   "source": [
    "# Let's do Scaling first before proceeding to the VIF Score\n",
    "\n",
    "from sklearn.preprocessing import StandardScaler\n",
    "\n",
    "scalar = StandardScaler()\n",
    "x_scaled = scalar.fit_transform(X)\n",
    "\n",
    "x_scaled"
   ]
  },
  {
   "cell_type": "code",
   "execution_count": null,
   "metadata": {
    "execution": {
     "iopub.execute_input": "2021-08-10T16:25:11.545103Z",
     "iopub.status.busy": "2021-08-10T16:25:11.544808Z",
     "iopub.status.idle": "2021-08-10T16:25:16.681329Z",
     "shell.execute_reply": "2021-08-10T16:25:16.680245Z",
     "shell.execute_reply.started": "2021-08-10T16:25:11.545068Z"
    }
   },
   "outputs": [],
   "source": [
    "# Let's check the VIF Score first..\n",
    "\n",
    "from statsmodels.stats.outliers_influence import variance_inflation_factor\n",
    "\n",
    "vif = pd.DataFrame()\n",
    "vif[\"VIF Score\"] = [variance_inflation_factor(x_scaled,i) for i in range(x_scaled.shape[1])]\n",
    "vif[\"Features\"] = X.columns\n",
    "                    \n",
    "vif.head(5)"
   ]
  },
  {
   "cell_type": "markdown",
   "metadata": {},
   "source": [
    "All the VIF Scores are less than 5. Now it is cross verified that multicollinearity is not exists between the features. Let's do the analysis of target column now."
   ]
  },
  {
   "cell_type": "code",
   "execution_count": null,
   "metadata": {
    "execution": {
     "iopub.execute_input": "2021-08-10T16:25:16.689046Z",
     "iopub.status.busy": "2021-08-10T16:25:16.686378Z",
     "iopub.status.idle": "2021-08-10T16:25:16.705462Z",
     "shell.execute_reply": "2021-08-10T16:25:16.704217Z",
     "shell.execute_reply.started": "2021-08-10T16:25:16.688972Z"
    }
   },
   "outputs": [],
   "source": [
    "# Target Column (Survived) Analysis\n",
    "\n",
    "titanic_data[\"Survived\"].value_counts()"
   ]
  },
  {
   "cell_type": "code",
   "execution_count": null,
   "metadata": {
    "execution": {
     "iopub.execute_input": "2021-08-10T16:25:16.714619Z",
     "iopub.status.busy": "2021-08-10T16:25:16.711986Z",
     "iopub.status.idle": "2021-08-10T16:25:16.869069Z",
     "shell.execute_reply": "2021-08-10T16:25:16.868302Z",
     "shell.execute_reply.started": "2021-08-10T16:25:16.714563Z"
    }
   },
   "outputs": [],
   "source": [
    "# Let's plot countplot for better analysis\n",
    "\n",
    "sns.countplot(titanic_data[\"Survived\"])"
   ]
  },
  {
   "cell_type": "markdown",
   "metadata": {},
   "source": [
    "It seems that class is not balance. Let's check the percentage of each using pie chart"
   ]
  },
  {
   "cell_type": "code",
   "execution_count": null,
   "metadata": {
    "execution": {
     "iopub.execute_input": "2021-08-10T16:25:16.871115Z",
     "iopub.status.busy": "2021-08-10T16:25:16.870462Z",
     "iopub.status.idle": "2021-08-10T16:25:16.974979Z",
     "shell.execute_reply": "2021-08-10T16:25:16.973941Z",
     "shell.execute_reply.started": "2021-08-10T16:25:16.871073Z"
    }
   },
   "outputs": [],
   "source": [
    "# let's plot a pie chart to check the contribution of each\n",
    "\n",
    "titanic_data[\"Survived\"].value_counts().plot.pie(figsize=(5,5), autopct=\"%1.2f\",startangle=90,\n",
    "                                                 labels=[\"Not Survived\",\"Survived\"],fontsize=20)"
   ]
  },
  {
   "cell_type": "markdown",
   "metadata": {},
   "source": [
    "There is big difference between classes. Let's do the Oversampling to balance the classes"
   ]
  },
  {
   "cell_type": "code",
   "execution_count": null,
   "metadata": {
    "execution": {
     "iopub.execute_input": "2021-08-10T16:25:16.976324Z",
     "iopub.status.busy": "2021-08-10T16:25:16.976056Z",
     "iopub.status.idle": "2021-08-10T16:25:17.431287Z",
     "shell.execute_reply": "2021-08-10T16:25:17.430307Z",
     "shell.execute_reply.started": "2021-08-10T16:25:16.976298Z"
    }
   },
   "outputs": [],
   "source": [
    "# Oversampling for class Imbalance\n",
    "\n",
    "\n",
    "from imblearn.over_sampling import SMOTE\n",
    "\n",
    "SM = SMOTE()\n",
    "\n",
    "X,Y = SM.fit_resample(X,Y)\n",
    "\n",
    "Y.value_counts()"
   ]
  },
  {
   "cell_type": "code",
   "execution_count": null,
   "metadata": {
    "execution": {
     "iopub.execute_input": "2021-08-10T16:25:17.433258Z",
     "iopub.status.busy": "2021-08-10T16:25:17.432847Z",
     "iopub.status.idle": "2021-08-10T16:25:17.564064Z",
     "shell.execute_reply": "2021-08-10T16:25:17.563046Z",
     "shell.execute_reply.started": "2021-08-10T16:25:17.433217Z"
    }
   },
   "outputs": [],
   "source": [
    "# Let's check countplot again...\n",
    "\n",
    "sns.countplot(Y)"
   ]
  },
  {
   "cell_type": "markdown",
   "metadata": {},
   "source": [
    "Now It is clear that class are balanced."
   ]
  },
  {
   "cell_type": "code",
   "execution_count": null,
   "metadata": {
    "execution": {
     "iopub.execute_input": "2021-08-10T16:25:17.566048Z",
     "iopub.status.busy": "2021-08-10T16:25:17.565617Z",
     "iopub.status.idle": "2021-08-10T16:25:17.585939Z",
     "shell.execute_reply": "2021-08-10T16:25:17.584887Z",
     "shell.execute_reply.started": "2021-08-10T16:25:17.566005Z"
    }
   },
   "outputs": [],
   "source": [
    "# Let's do scaling again for the latest oversampled data\n",
    "\n",
    "from sklearn.preprocessing import StandardScaler\n",
    "\n",
    "sca = StandardScaler()\n",
    "x_scal = sca.fit_transform(X)\n",
    "\n",
    "x_scal"
   ]
  },
  {
   "cell_type": "code",
   "execution_count": null,
   "metadata": {
    "execution": {
     "iopub.execute_input": "2021-08-10T16:25:17.58787Z",
     "iopub.status.busy": "2021-08-10T16:25:17.587428Z",
     "iopub.status.idle": "2021-08-10T16:25:17.594723Z",
     "shell.execute_reply": "2021-08-10T16:25:17.593529Z",
     "shell.execute_reply.started": "2021-08-10T16:25:17.587828Z"
    }
   },
   "outputs": [],
   "source": [
    "# Shape of final data\n",
    "\n",
    "titanic_data.shape"
   ]
  },
  {
   "cell_type": "code",
   "execution_count": null,
   "metadata": {
    "execution": {
     "iopub.execute_input": "2021-08-10T16:25:17.597122Z",
     "iopub.status.busy": "2021-08-10T16:25:17.596572Z",
     "iopub.status.idle": "2021-08-10T16:25:17.857298Z",
     "shell.execute_reply": "2021-08-10T16:25:17.856162Z",
     "shell.execute_reply.started": "2021-08-10T16:25:17.597072Z"
    }
   },
   "outputs": [],
   "source": [
    "# There are so many columns. So, Let's use the PCA\n",
    "\n",
    "from sklearn.decomposition import PCA\n",
    "from sklearn.metrics import explained_variance_score\n",
    "\n",
    "x_pca = PCA()\n",
    "x_pca.fit(x_scal)\n",
    "\n",
    "var_cumu = np.cumsum(x_pca.explained_variance_ratio_)*100\n",
    "\n",
    "k = np.argmax(var_cumu>95)\n",
    "print(\"Number of component explaining 95% variance : \",k)\n",
    "\n",
    "plt.xlabel(\"Principle Component\", fontsize=15)\n",
    "plt.ylabel(\"Cumulative Explained Variance\", fontsize=15)\n",
    "plt.axvline(x=k, color='k', linestyle='--')\n",
    "plt.axhline(y=95, color='r', linestyle='--')\n",
    "plt.plot(var_cumu)\n",
    "plt.plot()"
   ]
  },
  {
   "cell_type": "code",
   "execution_count": null,
   "metadata": {
    "execution": {
     "iopub.execute_input": "2021-08-10T16:25:17.859237Z",
     "iopub.status.busy": "2021-08-10T16:25:17.858874Z",
     "iopub.status.idle": "2021-08-10T16:25:17.879868Z",
     "shell.execute_reply": "2021-08-10T16:25:17.878783Z",
     "shell.execute_reply.started": "2021-08-10T16:25:17.859207Z"
    }
   },
   "outputs": [],
   "source": [
    "# Finalysing the features with PCA for model buildings\n",
    "\n",
    "Pca = PCA(n_components = 131)\n",
    "df_x = Pca.fit_transform(x_scal)\n",
    "\n",
    "df_x"
   ]
  },
  {
   "cell_type": "code",
   "execution_count": null,
   "metadata": {
    "execution": {
     "iopub.execute_input": "2021-08-10T16:25:17.881387Z",
     "iopub.status.busy": "2021-08-10T16:25:17.881103Z",
     "iopub.status.idle": "2021-08-10T16:25:17.885717Z",
     "shell.execute_reply": "2021-08-10T16:25:17.884427Z",
     "shell.execute_reply.started": "2021-08-10T16:25:17.88136Z"
    }
   },
   "outputs": [],
   "source": [
    "# Let's import the necessary libraries for models\n",
    "\n",
    "from sklearn.metrics import accuracy_score, plot_roc_curve, classification_report\n",
    "from sklearn.model_selection import train_test_split, cross_val_score\n"
   ]
  },
  {
   "cell_type": "code",
   "execution_count": null,
   "metadata": {
    "execution": {
     "iopub.execute_input": "2021-08-10T16:25:17.887357Z",
     "iopub.status.busy": "2021-08-10T16:25:17.88702Z",
     "iopub.status.idle": "2021-08-10T16:25:17.902939Z",
     "shell.execute_reply": "2021-08-10T16:25:17.901619Z",
     "shell.execute_reply.started": "2021-08-10T16:25:17.887328Z"
    }
   },
   "outputs": [],
   "source": [
    "# Let's find the best random state\n",
    "\n",
    "def model(mod):\n",
    "    max_auc = 0\n",
    "    max_state = 0\n",
    "    for i in range(1,201):\n",
    "        x_train,x_test,y_train,y_test = train_test_split(df_x,Y,test_size = 0.25, random_state =i)\n",
    "        mod.fit(x_train,y_train)\n",
    "        y_pred = mod.predict(x_test)\n",
    "        auc_scor = accuracy_score(y_test, y_pred)\n",
    "        if auc_scor>max_auc:\n",
    "            max_auc=auc_scor\n",
    "            max_state=i\n",
    "    print(\"Best Accuracy Score corresponding to \",max_state,\"is \",auc_scor)\n",
    "    print(\"Cross Validation Score : \",cross_val_score(mod,df_x,Y,cv=5).mean())\n",
    "    print(\"Classifiation Report-->\\n\\n\",classification_report(y_test,y_pred))"
   ]
  },
  {
   "cell_type": "code",
   "execution_count": null,
   "metadata": {
    "execution": {
     "iopub.execute_input": "2021-08-10T16:25:17.904919Z",
     "iopub.status.busy": "2021-08-10T16:25:17.90454Z",
     "iopub.status.idle": "2021-08-10T16:25:27.73216Z",
     "shell.execute_reply": "2021-08-10T16:25:27.731121Z",
     "shell.execute_reply.started": "2021-08-10T16:25:17.904886Z"
    }
   },
   "outputs": [],
   "source": [
    "# Logistic Regression\n",
    "\n",
    "from sklearn.linear_model import LogisticRegression\n",
    "\n",
    "LR = LogisticRegression()\n",
    "model(LR)"
   ]
  },
  {
   "cell_type": "code",
   "execution_count": null,
   "metadata": {
    "execution": {
     "iopub.execute_input": "2021-08-10T16:25:27.734261Z",
     "iopub.status.busy": "2021-08-10T16:25:27.733654Z",
     "iopub.status.idle": "2021-08-10T16:25:27.742952Z",
     "shell.execute_reply": "2021-08-10T16:25:27.741266Z",
     "shell.execute_reply.started": "2021-08-10T16:25:27.734209Z"
    }
   },
   "outputs": [],
   "source": [
    "# Models Format\n",
    "\n",
    "def models(mods):\n",
    "    x_train,x_test,y_train,y_test = train_test_split(df_x,Y,test_size = 0.25, random_state =41)\n",
    "    mods.fit(x_train,y_train)\n",
    "    y_preds = mods.predict(x_test)\n",
    "    auc_score = accuracy_score(y_test, y_preds)\n",
    "    print(\"Best Accuracy Score corresponding to \",auc_score)\n",
    "    print(\"Cross Validation Score : \",cross_val_score(mods,df_x,Y,cv=5).mean())\n",
    "    print(\"Classifiation Report-->\\n\\n\",classification_report(y_test,y_preds))          "
   ]
  },
  {
   "cell_type": "code",
   "execution_count": null,
   "metadata": {
    "execution": {
     "iopub.execute_input": "2021-08-10T16:25:27.745054Z",
     "iopub.status.busy": "2021-08-10T16:25:27.744475Z",
     "iopub.status.idle": "2021-08-10T16:25:28.117565Z",
     "shell.execute_reply": "2021-08-10T16:25:28.116519Z",
     "shell.execute_reply.started": "2021-08-10T16:25:27.745012Z"
    }
   },
   "outputs": [],
   "source": [
    "# Decision Tree Classifier\n",
    "\n",
    "from sklearn.tree import DecisionTreeClassifier\n",
    "\n",
    "DTR = DecisionTreeClassifier()\n",
    "\n",
    "models(DTR)"
   ]
  },
  {
   "cell_type": "code",
   "execution_count": null,
   "metadata": {
    "execution": {
     "iopub.execute_input": "2021-08-10T16:25:28.119555Z",
     "iopub.status.busy": "2021-08-10T16:25:28.118989Z",
     "iopub.status.idle": "2021-08-10T16:25:28.436573Z",
     "shell.execute_reply": "2021-08-10T16:25:28.43555Z",
     "shell.execute_reply.started": "2021-08-10T16:25:28.119512Z"
    }
   },
   "outputs": [],
   "source": [
    "# K-Neighbors Classifier\n",
    "\n",
    "from sklearn.neighbors import KNeighborsClassifier\n",
    "\n",
    "KNC = KNeighborsClassifier()\n",
    "\n",
    "models(KNC)"
   ]
  },
  {
   "cell_type": "code",
   "execution_count": null,
   "metadata": {
    "execution": {
     "iopub.execute_input": "2021-08-10T16:25:28.43822Z",
     "iopub.status.busy": "2021-08-10T16:25:28.4379Z",
     "iopub.status.idle": "2021-08-10T16:25:43.233032Z",
     "shell.execute_reply": "2021-08-10T16:25:43.231792Z",
     "shell.execute_reply.started": "2021-08-10T16:25:28.438188Z"
    }
   },
   "outputs": [],
   "source": [
    "# Gradient Boosting Classifier\n",
    "\n",
    "from sklearn.ensemble import GradientBoostingClassifier\n",
    "\n",
    "GBC = GradientBoostingClassifier()\n",
    "\n",
    "models(GBC)"
   ]
  },
  {
   "cell_type": "code",
   "execution_count": null,
   "metadata": {
    "execution": {
     "iopub.execute_input": "2021-08-10T16:25:43.236291Z",
     "iopub.status.busy": "2021-08-10T16:25:43.235985Z",
     "iopub.status.idle": "2021-08-10T16:25:45.15043Z",
     "shell.execute_reply": "2021-08-10T16:25:45.149533Z",
     "shell.execute_reply.started": "2021-08-10T16:25:43.236262Z"
    }
   },
   "outputs": [],
   "source": [
    "# Bagging Classifier\n",
    "\n",
    "from sklearn.ensemble import BaggingClassifier\n",
    "\n",
    "BC = BaggingClassifier()\n",
    "\n",
    "models(BC)"
   ]
  },
  {
   "cell_type": "code",
   "execution_count": null,
   "metadata": {
    "execution": {
     "iopub.execute_input": "2021-08-10T16:25:45.153454Z",
     "iopub.status.busy": "2021-08-10T16:25:45.152855Z",
     "iopub.status.idle": "2021-08-10T16:25:48.491713Z",
     "shell.execute_reply": "2021-08-10T16:25:48.490576Z",
     "shell.execute_reply.started": "2021-08-10T16:25:45.153402Z"
    }
   },
   "outputs": [],
   "source": [
    "# Random Forest Classifier\n",
    "\n",
    "from sklearn.ensemble import RandomForestClassifier\n",
    "\n",
    "RFC = RandomForestClassifier()\n",
    "\n",
    "models(RFC)"
   ]
  },
  {
   "cell_type": "markdown",
   "metadata": {},
   "source": [
    "****Let's check ROC AUC Curve for the fitted model****"
   ]
  },
  {
   "cell_type": "code",
   "execution_count": null,
   "metadata": {
    "execution": {
     "iopub.execute_input": "2021-08-10T16:25:48.497779Z",
     "iopub.status.busy": "2021-08-10T16:25:48.497447Z",
     "iopub.status.idle": "2021-08-10T16:25:48.504701Z",
     "shell.execute_reply": "2021-08-10T16:25:48.503554Z",
     "shell.execute_reply.started": "2021-08-10T16:25:48.49775Z"
    }
   },
   "outputs": [],
   "source": [
    "x_train,x_test,y_train,y_test = train_test_split(df_x,Y,test_size = 0.25, random_state =41)"
   ]
  },
  {
   "cell_type": "code",
   "execution_count": null,
   "metadata": {
    "execution": {
     "iopub.execute_input": "2021-08-10T16:25:48.506408Z",
     "iopub.status.busy": "2021-08-10T16:25:48.506128Z",
     "iopub.status.idle": "2021-08-10T16:25:48.857763Z",
     "shell.execute_reply": "2021-08-10T16:25:48.856509Z",
     "shell.execute_reply.started": "2021-08-10T16:25:48.506382Z"
    }
   },
   "outputs": [],
   "source": [
    "disp = plot_roc_curve(LR, x_test, y_test)\n",
    "plot_roc_curve(DTR, x_test, y_test, ax=disp.ax_)\n",
    "plot_roc_curve(KNC, x_test, y_test, ax=disp.ax_)\n",
    "plot_roc_curve(BC, x_test, y_test, ax=disp.ax_)\n",
    "plot_roc_curve(RFC, x_test, y_test, ax=disp.ax_)\n",
    "plot_roc_curve(GBC, x_test, y_test, ax=disp.ax_)\n",
    "\n",
    "plt.legend(prop={\"size\":10},loc=\"lower right\")\n",
    "plt.show()"
   ]
  },
  {
   "cell_type": "markdown",
   "metadata": {},
   "source": [
    "**After analyzing ROC AUC Curve the Accuray Scores & Cross Validatio Scores of above 6 models, I choose Logistic Regression becasue this is the only model which is not getting the difference in accuracy score after cross validation and It is looking stable with it's score. Now let's try to increase the score by applying hyperparameter tuning**"
   ]
  },
  {
   "cell_type": "code",
   "execution_count": null,
   "metadata": {
    "execution": {
     "iopub.execute_input": "2021-08-10T16:25:48.859811Z",
     "iopub.status.busy": "2021-08-10T16:25:48.859373Z",
     "iopub.status.idle": "2021-08-10T16:25:53.590972Z",
     "shell.execute_reply": "2021-08-10T16:25:53.58997Z",
     "shell.execute_reply.started": "2021-08-10T16:25:48.859767Z"
    }
   },
   "outputs": [],
   "source": [
    "# Hyperparameter Tuning with Logistic Regression\n",
    "\n",
    "from sklearn.model_selection import GridSearchCV\n",
    "\n",
    "param_grid = {\"penalty\" : ['l1','l2'], \"intercept_scaling\" : [1,2,3],\n",
    "             \"random_state\" : [81,131,151], \"max_iter\" : [100,200]}\n",
    "\n",
    "grid_srch = GridSearchCV(LR, param_grid=param_grid)\n",
    "grid_srch.fit(df_x,Y)\n",
    "grid_srch.best_params_"
   ]
  },
  {
   "cell_type": "markdown",
   "metadata": {},
   "source": [
    "**Final Model**"
   ]
  },
  {
   "cell_type": "code",
   "execution_count": null,
   "metadata": {
    "execution": {
     "iopub.execute_input": "2021-08-10T16:25:53.593382Z",
     "iopub.status.busy": "2021-08-10T16:25:53.592627Z",
     "iopub.status.idle": "2021-08-10T16:25:53.666722Z",
     "shell.execute_reply": "2021-08-10T16:25:53.665617Z",
     "shell.execute_reply.started": "2021-08-10T16:25:53.593335Z"
    }
   },
   "outputs": [],
   "source": [
    "Final_Model = LogisticRegression(intercept_scaling=1, max_iter=100, penalty='l2', random_state=81)\n",
    "\n",
    "x_train,x_test,y_train,y_test = train_test_split(df_x,Y,test_size = 0.25, random_state =41)\n",
    "Final_Model.fit(x_train,y_train)\n",
    "y_preds = Final_Model.predict(x_test)\n",
    "auc_scr = accuracy_score(y_test, y_preds)\n",
    "print(\"Best Accuracy Score corresponding to \",auc_scr)\n",
    "print(\"Classifiation Report-->\\n\\n\",classification_report(y_test,y_preds))"
   ]
  },
  {
   "cell_type": "markdown",
   "metadata": {},
   "source": [
    "**Saving The Model**"
   ]
  },
  {
   "cell_type": "code",
   "execution_count": null,
   "metadata": {
    "execution": {
     "iopub.execute_input": "2021-08-10T16:25:53.66935Z",
     "iopub.status.busy": "2021-08-10T16:25:53.668582Z",
     "iopub.status.idle": "2021-08-10T16:25:53.680794Z",
     "shell.execute_reply": "2021-08-10T16:25:53.679451Z",
     "shell.execute_reply.started": "2021-08-10T16:25:53.6693Z"
    }
   },
   "outputs": [],
   "source": [
    "import joblib\n",
    "\n",
    "joblib.dump(Final_Model,\"Final_Titanic_Project_Model.plk\")"
   ]
  },
  {
   "cell_type": "markdown",
   "metadata": {},
   "source": []
  }
 ],
 "metadata": {
  "kernelspec": {
   "display_name": "Python 3",
   "language": "python",
   "name": "python3"
  },
  "language_info": {
   "codemirror_mode": {
    "name": "ipython",
    "version": 3
   },
   "file_extension": ".py",
   "mimetype": "text/x-python",
   "name": "python",
   "nbconvert_exporter": "python",
   "pygments_lexer": "ipython3",
   "version": "3.7.4"
  }
 },
 "nbformat": 4,
 "nbformat_minor": 4
}

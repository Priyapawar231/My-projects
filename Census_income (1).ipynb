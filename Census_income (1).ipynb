{
 "cells": [
  {
   "cell_type": "code",
   "execution_count": 2,
   "metadata": {
    "execution": {
     "iopub.execute_input": "2021-07-18T17:16:32.19512Z",
     "iopub.status.busy": "2021-07-18T17:16:32.194478Z",
     "iopub.status.idle": "2021-07-18T17:16:33.346985Z",
     "shell.execute_reply": "2021-07-18T17:16:33.346091Z",
     "shell.execute_reply.started": "2021-07-18T17:16:32.19502Z"
    },
    "id": "QPESnG--dMsk",
    "outputId": "60d2aefb-a152-4eb7-a1d2-6d09e068bd2d"
   },
   "outputs": [
    {
     "data": {
      "text/html": [
       "<div>\n",
       "<style scoped>\n",
       "    .dataframe tbody tr th:only-of-type {\n",
       "        vertical-align: middle;\n",
       "    }\n",
       "\n",
       "    .dataframe tbody tr th {\n",
       "        vertical-align: top;\n",
       "    }\n",
       "\n",
       "    .dataframe thead th {\n",
       "        text-align: right;\n",
       "    }\n",
       "</style>\n",
       "<table border=\"1\" class=\"dataframe\">\n",
       "  <thead>\n",
       "    <tr style=\"text-align: right;\">\n",
       "      <th></th>\n",
       "      <th>Age</th>\n",
       "      <th>Workclass</th>\n",
       "      <th>Fnlwgt</th>\n",
       "      <th>Education</th>\n",
       "      <th>Education_num</th>\n",
       "      <th>Marital_status</th>\n",
       "      <th>Occupation</th>\n",
       "      <th>Relationship</th>\n",
       "      <th>Race</th>\n",
       "      <th>Sex</th>\n",
       "      <th>Capital_gain</th>\n",
       "      <th>Capital_loss</th>\n",
       "      <th>Hours_per_week</th>\n",
       "      <th>Native_country</th>\n",
       "      <th>Income</th>\n",
       "    </tr>\n",
       "  </thead>\n",
       "  <tbody>\n",
       "    <tr>\n",
       "      <td>0</td>\n",
       "      <td>50</td>\n",
       "      <td>Self-emp-not-inc</td>\n",
       "      <td>83311</td>\n",
       "      <td>Bachelors</td>\n",
       "      <td>13</td>\n",
       "      <td>Married-civ-spouse</td>\n",
       "      <td>Exec-managerial</td>\n",
       "      <td>Husband</td>\n",
       "      <td>White</td>\n",
       "      <td>Male</td>\n",
       "      <td>0</td>\n",
       "      <td>0</td>\n",
       "      <td>13</td>\n",
       "      <td>United-States</td>\n",
       "      <td>&lt;=50K</td>\n",
       "    </tr>\n",
       "    <tr>\n",
       "      <td>1</td>\n",
       "      <td>38</td>\n",
       "      <td>Private</td>\n",
       "      <td>215646</td>\n",
       "      <td>HS-grad</td>\n",
       "      <td>9</td>\n",
       "      <td>Divorced</td>\n",
       "      <td>Handlers-cleaners</td>\n",
       "      <td>Not-in-family</td>\n",
       "      <td>White</td>\n",
       "      <td>Male</td>\n",
       "      <td>0</td>\n",
       "      <td>0</td>\n",
       "      <td>40</td>\n",
       "      <td>United-States</td>\n",
       "      <td>&lt;=50K</td>\n",
       "    </tr>\n",
       "    <tr>\n",
       "      <td>2</td>\n",
       "      <td>53</td>\n",
       "      <td>Private</td>\n",
       "      <td>234721</td>\n",
       "      <td>11th</td>\n",
       "      <td>7</td>\n",
       "      <td>Married-civ-spouse</td>\n",
       "      <td>Handlers-cleaners</td>\n",
       "      <td>Husband</td>\n",
       "      <td>Black</td>\n",
       "      <td>Male</td>\n",
       "      <td>0</td>\n",
       "      <td>0</td>\n",
       "      <td>40</td>\n",
       "      <td>United-States</td>\n",
       "      <td>&lt;=50K</td>\n",
       "    </tr>\n",
       "    <tr>\n",
       "      <td>3</td>\n",
       "      <td>28</td>\n",
       "      <td>Private</td>\n",
       "      <td>338409</td>\n",
       "      <td>Bachelors</td>\n",
       "      <td>13</td>\n",
       "      <td>Married-civ-spouse</td>\n",
       "      <td>Prof-specialty</td>\n",
       "      <td>Wife</td>\n",
       "      <td>Black</td>\n",
       "      <td>Female</td>\n",
       "      <td>0</td>\n",
       "      <td>0</td>\n",
       "      <td>40</td>\n",
       "      <td>Cuba</td>\n",
       "      <td>&lt;=50K</td>\n",
       "    </tr>\n",
       "    <tr>\n",
       "      <td>4</td>\n",
       "      <td>37</td>\n",
       "      <td>Private</td>\n",
       "      <td>284582</td>\n",
       "      <td>Masters</td>\n",
       "      <td>14</td>\n",
       "      <td>Married-civ-spouse</td>\n",
       "      <td>Exec-managerial</td>\n",
       "      <td>Wife</td>\n",
       "      <td>White</td>\n",
       "      <td>Female</td>\n",
       "      <td>0</td>\n",
       "      <td>0</td>\n",
       "      <td>40</td>\n",
       "      <td>United-States</td>\n",
       "      <td>&lt;=50K</td>\n",
       "    </tr>\n",
       "  </tbody>\n",
       "</table>\n",
       "</div>"
      ],
      "text/plain": [
       "   Age          Workclass  Fnlwgt   Education  Education_num  \\\n",
       "0   50   Self-emp-not-inc   83311   Bachelors             13   \n",
       "1   38            Private  215646     HS-grad              9   \n",
       "2   53            Private  234721        11th              7   \n",
       "3   28            Private  338409   Bachelors             13   \n",
       "4   37            Private  284582     Masters             14   \n",
       "\n",
       "        Marital_status          Occupation    Relationship    Race      Sex  \\\n",
       "0   Married-civ-spouse     Exec-managerial         Husband   White     Male   \n",
       "1             Divorced   Handlers-cleaners   Not-in-family   White     Male   \n",
       "2   Married-civ-spouse   Handlers-cleaners         Husband   Black     Male   \n",
       "3   Married-civ-spouse      Prof-specialty            Wife   Black   Female   \n",
       "4   Married-civ-spouse     Exec-managerial            Wife   White   Female   \n",
       "\n",
       "   Capital_gain  Capital_loss  Hours_per_week  Native_country  Income  \n",
       "0             0             0              13   United-States   <=50K  \n",
       "1             0             0              40   United-States   <=50K  \n",
       "2             0             0              40   United-States   <=50K  \n",
       "3             0             0              40            Cuba   <=50K  \n",
       "4             0             0              40   United-States   <=50K  "
      ]
     },
     "execution_count": 2,
     "metadata": {},
     "output_type": "execute_result"
    }
   ],
   "source": [
    "import pandas as pd\n",
    "import numpy as np\n",
    "import matplotlib.pyplot as plt\n",
    "%matplotlib inline\n",
    "import seaborn as sns\n",
    "\n",
    "df = pd.read_csv(r'C:\\Users\\rksan\\Downloads\\census_income.csv')\n",
    "df.head()"
   ]
  },
  {
   "cell_type": "code",
   "execution_count": 3,
   "metadata": {
    "execution": {
     "iopub.execute_input": "2021-07-18T17:16:33.349584Z",
     "iopub.status.busy": "2021-07-18T17:16:33.349108Z",
     "iopub.status.idle": "2021-07-18T17:16:33.403945Z",
     "shell.execute_reply": "2021-07-18T17:16:33.402788Z",
     "shell.execute_reply.started": "2021-07-18T17:16:33.349533Z"
    },
    "id": "6OX0BCf1wYoB",
    "outputId": "b4eb9800-6eaa-40eb-a06b-d1f4c12da0ff"
   },
   "outputs": [
    {
     "name": "stdout",
     "output_type": "stream",
     "text": [
      "<class 'pandas.core.frame.DataFrame'>\n",
      "RangeIndex: 32560 entries, 0 to 32559\n",
      "Data columns (total 15 columns):\n",
      "Age               32560 non-null int64\n",
      "Workclass         32560 non-null object\n",
      "Fnlwgt            32560 non-null int64\n",
      "Education         32560 non-null object\n",
      "Education_num     32560 non-null int64\n",
      "Marital_status    32560 non-null object\n",
      "Occupation        32560 non-null object\n",
      "Relationship      32560 non-null object\n",
      "Race              32560 non-null object\n",
      "Sex               32560 non-null object\n",
      "Capital_gain      32560 non-null int64\n",
      "Capital_loss      32560 non-null int64\n",
      "Hours_per_week    32560 non-null int64\n",
      "Native_country    32560 non-null object\n",
      "Income            32560 non-null object\n",
      "dtypes: int64(6), object(9)\n",
      "memory usage: 3.7+ MB\n"
     ]
    }
   ],
   "source": [
    "df.info()"
   ]
  },
  {
   "cell_type": "code",
   "execution_count": 4,
   "metadata": {
    "execution": {
     "iopub.execute_input": "2021-07-18T17:16:33.406896Z",
     "iopub.status.busy": "2021-07-18T17:16:33.40646Z",
     "iopub.status.idle": "2021-07-18T17:16:33.446555Z",
     "shell.execute_reply": "2021-07-18T17:16:33.445661Z",
     "shell.execute_reply.started": "2021-07-18T17:16:33.406852Z"
    },
    "id": "cfOsnqfXwm2Q",
    "outputId": "dae74808-d691-4b1d-df2c-a66df1131697"
   },
   "outputs": [
    {
     "data": {
      "text/html": [
       "<div>\n",
       "<style scoped>\n",
       "    .dataframe tbody tr th:only-of-type {\n",
       "        vertical-align: middle;\n",
       "    }\n",
       "\n",
       "    .dataframe tbody tr th {\n",
       "        vertical-align: top;\n",
       "    }\n",
       "\n",
       "    .dataframe thead th {\n",
       "        text-align: right;\n",
       "    }\n",
       "</style>\n",
       "<table border=\"1\" class=\"dataframe\">\n",
       "  <thead>\n",
       "    <tr style=\"text-align: right;\">\n",
       "      <th></th>\n",
       "      <th>Age</th>\n",
       "      <th>Fnlwgt</th>\n",
       "      <th>Education_num</th>\n",
       "      <th>Capital_gain</th>\n",
       "      <th>Capital_loss</th>\n",
       "      <th>Hours_per_week</th>\n",
       "    </tr>\n",
       "  </thead>\n",
       "  <tbody>\n",
       "    <tr>\n",
       "      <td>count</td>\n",
       "      <td>32560.000000</td>\n",
       "      <td>3.256000e+04</td>\n",
       "      <td>32560.000000</td>\n",
       "      <td>32560.000000</td>\n",
       "      <td>32560.000000</td>\n",
       "      <td>32560.000000</td>\n",
       "    </tr>\n",
       "    <tr>\n",
       "      <td>mean</td>\n",
       "      <td>38.581634</td>\n",
       "      <td>1.897818e+05</td>\n",
       "      <td>10.080590</td>\n",
       "      <td>1077.615172</td>\n",
       "      <td>87.306511</td>\n",
       "      <td>40.437469</td>\n",
       "    </tr>\n",
       "    <tr>\n",
       "      <td>std</td>\n",
       "      <td>13.640642</td>\n",
       "      <td>1.055498e+05</td>\n",
       "      <td>2.572709</td>\n",
       "      <td>7385.402999</td>\n",
       "      <td>402.966116</td>\n",
       "      <td>12.347618</td>\n",
       "    </tr>\n",
       "    <tr>\n",
       "      <td>min</td>\n",
       "      <td>17.000000</td>\n",
       "      <td>1.228500e+04</td>\n",
       "      <td>1.000000</td>\n",
       "      <td>0.000000</td>\n",
       "      <td>0.000000</td>\n",
       "      <td>1.000000</td>\n",
       "    </tr>\n",
       "    <tr>\n",
       "      <td>25%</td>\n",
       "      <td>28.000000</td>\n",
       "      <td>1.178315e+05</td>\n",
       "      <td>9.000000</td>\n",
       "      <td>0.000000</td>\n",
       "      <td>0.000000</td>\n",
       "      <td>40.000000</td>\n",
       "    </tr>\n",
       "    <tr>\n",
       "      <td>50%</td>\n",
       "      <td>37.000000</td>\n",
       "      <td>1.783630e+05</td>\n",
       "      <td>10.000000</td>\n",
       "      <td>0.000000</td>\n",
       "      <td>0.000000</td>\n",
       "      <td>40.000000</td>\n",
       "    </tr>\n",
       "    <tr>\n",
       "      <td>75%</td>\n",
       "      <td>48.000000</td>\n",
       "      <td>2.370545e+05</td>\n",
       "      <td>12.000000</td>\n",
       "      <td>0.000000</td>\n",
       "      <td>0.000000</td>\n",
       "      <td>45.000000</td>\n",
       "    </tr>\n",
       "    <tr>\n",
       "      <td>max</td>\n",
       "      <td>90.000000</td>\n",
       "      <td>1.484705e+06</td>\n",
       "      <td>16.000000</td>\n",
       "      <td>99999.000000</td>\n",
       "      <td>4356.000000</td>\n",
       "      <td>99.000000</td>\n",
       "    </tr>\n",
       "  </tbody>\n",
       "</table>\n",
       "</div>"
      ],
      "text/plain": [
       "                Age        Fnlwgt  Education_num  Capital_gain  Capital_loss  \\\n",
       "count  32560.000000  3.256000e+04   32560.000000  32560.000000  32560.000000   \n",
       "mean      38.581634  1.897818e+05      10.080590   1077.615172     87.306511   \n",
       "std       13.640642  1.055498e+05       2.572709   7385.402999    402.966116   \n",
       "min       17.000000  1.228500e+04       1.000000      0.000000      0.000000   \n",
       "25%       28.000000  1.178315e+05       9.000000      0.000000      0.000000   \n",
       "50%       37.000000  1.783630e+05      10.000000      0.000000      0.000000   \n",
       "75%       48.000000  2.370545e+05      12.000000      0.000000      0.000000   \n",
       "max       90.000000  1.484705e+06      16.000000  99999.000000   4356.000000   \n",
       "\n",
       "       Hours_per_week  \n",
       "count    32560.000000  \n",
       "mean        40.437469  \n",
       "std         12.347618  \n",
       "min          1.000000  \n",
       "25%         40.000000  \n",
       "50%         40.000000  \n",
       "75%         45.000000  \n",
       "max         99.000000  "
      ]
     },
     "execution_count": 4,
     "metadata": {},
     "output_type": "execute_result"
    }
   ],
   "source": [
    "df.describe()"
   ]
  },
  {
   "cell_type": "code",
   "execution_count": 5,
   "metadata": {
    "execution": {
     "iopub.execute_input": "2021-07-18T17:16:33.448329Z",
     "iopub.status.busy": "2021-07-18T17:16:33.448051Z",
     "iopub.status.idle": "2021-07-18T17:16:33.968935Z",
     "shell.execute_reply": "2021-07-18T17:16:33.968028Z",
     "shell.execute_reply.started": "2021-07-18T17:16:33.448301Z"
    },
    "id": "uF4ME6x2HS3z",
    "outputId": "5225fbd2-3815-4b8d-e3d1-a6ba965b3074"
   },
   "outputs": [
    {
     "data": {
      "text/plain": [
       "<matplotlib.axes._subplots.AxesSubplot at 0x219b003c508>"
      ]
     },
     "execution_count": 5,
     "metadata": {},
     "output_type": "execute_result"
    },
    {
     "data": {
      "image/png": "[encoded data removed]",
      "text/plain": [
       "<Figure size 1152x1008 with 2 Axes>"
      ]
     },
     "metadata": {
      "needs_background": "light"
     },
     "output_type": "display_data"
    }
   ],
   "source": [
    "plt.figure(figsize=(16,14))\n",
    "sns.heatmap(df.corr(), annot = True)"
   ]
  },
  {
   "cell_type": "code",
   "execution_count": 14,
   "metadata": {
    "execution": {
     "iopub.execute_input": "2021-07-18T17:16:33.970491Z",
     "iopub.status.busy": "2021-07-18T17:16:33.970193Z",
     "iopub.status.idle": "2021-07-18T17:16:35.676656Z",
     "shell.execute_reply": "2021-07-18T17:16:35.675598Z",
     "shell.execute_reply.started": "2021-07-18T17:16:33.970461Z"
    },
    "id": "KUcOGl_Vyj8A",
    "outputId": "28accb43-e082-41c3-d4cd-1d04d3a2b6af"
   },
   "outputs": [
    {
     "data": {
      "text/plain": [
       "<matplotlib.legend.Legend at 0x219b05fc1c8>"
      ]
     },
     "execution_count": 14,
     "metadata": {},
     "output_type": "execute_result"
    },
    {
     "data": {
      "image/png": "[encoded data removed]",
      "text/plain": [
       "<Figure size 1152x432 with 1 Axes>"
      ]
     },
     "metadata": {
      "needs_background": "light"
     },
     "output_type": "display_data"
    }
   ],
   "source": [
    "plt.figure(figsize=(16,6))\n",
    "sns.countplot(x=df.Age, hue=df.Income)\n",
    "plt.title(\"\")\n",
    "plt.xlabel('Age')\n",
    "plt.ylabel('Count')\n",
    "plt.legend()"
   ]
  },
  {
   "cell_type": "code",
   "execution_count": 15,
   "metadata": {
    "execution": {
     "iopub.execute_input": "2021-07-18T17:16:35.678215Z",
     "iopub.status.busy": "2021-07-18T17:16:35.677899Z",
     "iopub.status.idle": "2021-07-18T17:16:35.686647Z",
     "shell.execute_reply": "2021-07-18T17:16:35.685719Z",
     "shell.execute_reply.started": "2021-07-18T17:16:35.678178Z"
    },
    "id": "PSs9ZZWH04q5",
    "outputId": "d5f54f13-841b-4744-9a75-d8f60aabeb80"
   },
   "outputs": [
    {
     "data": {
      "text/plain": [
       "array([' Self-emp-not-inc', ' Private', ' State-gov', ' Federal-gov',\n",
       "       ' Local-gov', ' ?', ' Self-emp-inc', ' Without-pay',\n",
       "       ' Never-worked'], dtype=object)"
      ]
     },
     "execution_count": 15,
     "metadata": {},
     "output_type": "execute_result"
    }
   ],
   "source": [
    "df.Workclass.unique()"
   ]
  },
  {
   "cell_type": "code",
   "execution_count": 17,
   "metadata": {
    "execution": {
     "iopub.execute_input": "2021-07-18T17:16:35.688276Z",
     "iopub.status.busy": "2021-07-18T17:16:35.687941Z",
     "iopub.status.idle": "2021-07-18T17:16:36.047023Z",
     "shell.execute_reply": "2021-07-18T17:16:36.045892Z",
     "shell.execute_reply.started": "2021-07-18T17:16:35.688238Z"
    },
    "id": "3a8sa8qc1H5C",
    "outputId": "4e37f3c9-c590-4142-c18f-79f6894532a2"
   },
   "outputs": [
    {
     "data": {
      "text/plain": [
       "<matplotlib.legend.Legend at 0x219b1315308>"
      ]
     },
     "execution_count": 17,
     "metadata": {},
     "output_type": "execute_result"
    },
    {
     "data": {
      "image/png": "[encoded data removed]",
      "text/plain": [
       "<Figure size 1152x432 with 1 Axes>"
      ]
     },
     "metadata": {
      "needs_background": "light"
     },
     "output_type": "display_data"
    }
   ],
   "source": [
    "plt.figure(figsize=(16,6))\n",
    "sns.countplot(x=df.Workclass, hue=df.Income)\n",
    "plt.title(\"\")\n",
    "plt.xlabel('Work Class')\n",
    "plt.ylabel('Count')\n",
    "plt.legend()"
   ]
  },
  {
   "cell_type": "code",
   "execution_count": 19,
   "metadata": {
    "execution": {
     "iopub.execute_input": "2021-07-18T17:16:36.049735Z",
     "iopub.status.busy": "2021-07-18T17:16:36.049441Z",
     "iopub.status.idle": "2021-07-18T17:16:36.066883Z",
     "shell.execute_reply": "2021-07-18T17:16:36.065665Z",
     "shell.execute_reply.started": "2021-07-18T17:16:36.049707Z"
    },
    "id": "fASFLDSc1crd",
    "outputId": "85e88ad5-3298-46d1-e37e-88103bae86d3"
   },
   "outputs": [
    {
     "data": {
      "text/plain": [
       "Age               0\n",
       "Workclass         0\n",
       "Fnlwgt            0\n",
       "Education         0\n",
       "Education_num     0\n",
       "Marital_status    0\n",
       "Occupation        0\n",
       "Relationship      0\n",
       "Race              0\n",
       "Sex               0\n",
       "Capital_gain      0\n",
       "Capital_loss      0\n",
       "Hours_per_week    0\n",
       "Native_country    0\n",
       "Income            0\n",
       "dtype: int64"
      ]
     },
     "execution_count": 19,
     "metadata": {},
     "output_type": "execute_result"
    }
   ],
   "source": [
    "df[df['Workclass']=='Without-pay'].count()"
   ]
  },
  {
   "cell_type": "code",
   "execution_count": 20,
   "metadata": {
    "execution": {
     "iopub.execute_input": "2021-07-18T17:16:36.069339Z",
     "iopub.status.busy": "2021-07-18T17:16:36.069047Z",
     "iopub.status.idle": "2021-07-18T17:16:36.089271Z",
     "shell.execute_reply": "2021-07-18T17:16:36.088107Z",
     "shell.execute_reply.started": "2021-07-18T17:16:36.069311Z"
    },
    "id": "Ene7Foih2L4i",
    "outputId": "9a5d5faf-e653-48fd-e0d4-fa8ba8b40c81"
   },
   "outputs": [
    {
     "data": {
      "text/plain": [
       "Age               0\n",
       "Workclass         0\n",
       "Fnlwgt            0\n",
       "Education         0\n",
       "Education_num     0\n",
       "Marital_status    0\n",
       "Occupation        0\n",
       "Relationship      0\n",
       "Race              0\n",
       "Sex               0\n",
       "Capital_gain      0\n",
       "Capital_loss      0\n",
       "Hours_per_week    0\n",
       "Native_country    0\n",
       "Income            0\n",
       "dtype: int64"
      ]
     },
     "execution_count": 20,
     "metadata": {},
     "output_type": "execute_result"
    }
   ],
   "source": [
    "df[df['Workclass']=='Never-worked'].count()"
   ]
  },
  {
   "cell_type": "code",
   "execution_count": 22,
   "metadata": {
    "execution": {
     "iopub.execute_input": "2021-07-18T17:16:36.091677Z",
     "iopub.status.busy": "2021-07-18T17:16:36.091232Z",
     "iopub.status.idle": "2021-07-18T17:16:36.123374Z",
     "shell.execute_reply": "2021-07-18T17:16:36.121699Z",
     "shell.execute_reply.started": "2021-07-18T17:16:36.091633Z"
    },
    "id": "2nOtgLq52VIU"
   },
   "outputs": [],
   "source": [
    "df = df[df.Workclass != 'Never-worked']\n",
    "df = df[df.Workclass != 'Without-pay']"
   ]
  },
  {
   "cell_type": "code",
   "execution_count": 23,
   "metadata": {
    "execution": {
     "iopub.execute_input": "2021-07-18T17:16:36.125661Z",
     "iopub.status.busy": "2021-07-18T17:16:36.125279Z",
     "iopub.status.idle": "2021-07-18T17:16:36.138523Z",
     "shell.execute_reply": "2021-07-18T17:16:36.137214Z",
     "shell.execute_reply.started": "2021-07-18T17:16:36.125624Z"
    },
    "id": "PzzFEUCP4Kk8",
    "outputId": "952ca793-6322-4419-e126-fdfd249c0559"
   },
   "outputs": [
    {
     "data": {
      "text/plain": [
       "array([' Self-emp-not-inc', ' Private', ' State-gov', ' Federal-gov',\n",
       "       ' Local-gov', ' ?', ' Self-emp-inc', ' Without-pay',\n",
       "       ' Never-worked'], dtype=object)"
      ]
     },
     "execution_count": 23,
     "metadata": {},
     "output_type": "execute_result"
    }
   ],
   "source": [
    "df.Workclass.unique()"
   ]
  },
  {
   "cell_type": "code",
   "execution_count": 26,
   "metadata": {
    "execution": {
     "iopub.execute_input": "2021-07-18T17:16:36.141448Z",
     "iopub.status.busy": "2021-07-18T17:16:36.140729Z",
     "iopub.status.idle": "2021-07-18T17:16:36.155352Z",
     "shell.execute_reply": "2021-07-18T17:16:36.153396Z",
     "shell.execute_reply.started": "2021-07-18T17:16:36.141397Z"
    },
    "id": "7B8hCCSB5Hce",
    "outputId": "3d2b566e-dff8-43fe-d6cc-f900bfd49886"
   },
   "outputs": [
    {
     "name": "stdout",
     "output_type": "stream",
     "text": [
      "[' Bachelors' ' HS-grad' ' 11th' ' Masters' ' 9th' ' Some-college'\n",
      " ' Assoc-acdm' ' Assoc-voc' ' 7th-8th' ' Doctorate' ' Prof-school'\n",
      " ' 5th-6th' ' 10th' ' 1st-4th' ' Preschool' ' 12th']\n",
      "[13  9  7 14  5 10 12 11  4 16 15  3  6  2  1  8]\n"
     ]
    }
   ],
   "source": [
    "print(df.Education.unique())\n",
    "print(df['Education_num'].unique())"
   ]
  },
  {
   "cell_type": "code",
   "execution_count": 27,
   "metadata": {
    "execution": {
     "iopub.execute_input": "2021-07-18T17:16:36.157293Z",
     "iopub.status.busy": "2021-07-18T17:16:36.156923Z",
     "iopub.status.idle": "2021-07-18T17:16:36.62109Z",
     "shell.execute_reply": "2021-07-18T17:16:36.620065Z",
     "shell.execute_reply.started": "2021-07-18T17:16:36.15726Z"
    },
    "id": "jtj2Nojw8Emk",
    "outputId": "8e64888b-b9bc-4c69-fd37-17af049fc37d"
   },
   "outputs": [
    {
     "data": {
      "text/plain": [
       "<matplotlib.legend.Legend at 0x219b0d15a08>"
      ]
     },
     "execution_count": 27,
     "metadata": {},
     "output_type": "execute_result"
    },
    {
     "data": {
      "image/png": "[encoded data removed]",
      "text/plain": [
       "<Figure size 1152x432 with 1 Axes>"
      ]
     },
     "metadata": {
      "needs_background": "light"
     },
     "output_type": "display_data"
    }
   ],
   "source": [
    "plt.figure(figsize=(16,6))\n",
    "sns.countplot(x=df.Education, hue=df.Income)\n",
    "plt.title(\"\")\n",
    "plt.xlabel('Education')\n",
    "plt.ylabel('Count')\n",
    "plt.legend()"
   ]
  },
  {
   "cell_type": "code",
   "execution_count": 28,
   "metadata": {
    "execution": {
     "iopub.execute_input": "2021-07-18T17:16:36.622681Z",
     "iopub.status.busy": "2021-07-18T17:16:36.622379Z",
     "iopub.status.idle": "2021-07-18T17:16:36.902856Z",
     "shell.execute_reply": "2021-07-18T17:16:36.901569Z",
     "shell.execute_reply.started": "2021-07-18T17:16:36.622651Z"
    },
    "id": "xdIjs6tG81jb",
    "outputId": "2fb82c69-dffd-424e-f3ff-9e7689ff8504"
   },
   "outputs": [
    {
     "name": "stdout",
     "output_type": "stream",
     "text": [
      "Percentage of eduction level who earn >50K \n",
      " Bachelors\n",
      "0.0\n",
      " HS-grad\n",
      "0.0\n",
      " 11th\n",
      "0.0\n",
      " Masters\n",
      "0.0\n",
      " 9th\n",
      "0.0\n",
      " Some-college\n",
      "0.0\n",
      " Assoc-acdm\n",
      "0.0\n",
      " Assoc-voc\n",
      "0.0\n",
      " 7th-8th\n",
      "0.0\n",
      " Doctorate\n",
      "0.0\n",
      " Prof-school\n",
      "0.0\n",
      " 5th-6th\n",
      "0.0\n",
      " 10th\n",
      "0.0\n",
      " 1st-4th\n",
      "0.0\n",
      " Preschool\n",
      "0.0\n",
      " 12th\n",
      "0.0\n"
     ]
    }
   ],
   "source": [
    "e = df.Education.unique()\n",
    "\n",
    "print('Percentage of eduction level who earn >50K ')\n",
    "for i in e:\n",
    "  val = len(df[(df.Education == i) & (df.Income == '>50K')])\n",
    "  tot = len(df[df.Education == i])\n",
    "  print(i)\n",
    "  print((val/tot)*100)"
   ]
  },
  {
   "cell_type": "code",
   "execution_count": 29,
   "metadata": {
    "execution": {
     "iopub.execute_input": "2021-07-18T17:16:36.904532Z",
     "iopub.status.busy": "2021-07-18T17:16:36.90424Z",
     "iopub.status.idle": "2021-07-18T17:16:36.915647Z",
     "shell.execute_reply": "2021-07-18T17:16:36.914597Z",
     "shell.execute_reply.started": "2021-07-18T17:16:36.904504Z"
    },
    "id": "1UaIXbC5CtPe",
    "outputId": "82b5e8bd-9ab9-47cb-87a7-6a2f559db901"
   },
   "outputs": [
    {
     "data": {
      "text/plain": [
       "array([' Married-civ-spouse', ' Divorced', ' Married-spouse-absent',\n",
       "       ' Never-married', ' Separated', ' Married-AF-spouse', ' Widowed'],\n",
       "      dtype=object)"
      ]
     },
     "execution_count": 29,
     "metadata": {},
     "output_type": "execute_result"
    }
   ],
   "source": [
    "df['Marital_status'].unique()"
   ]
  },
  {
   "cell_type": "code",
   "execution_count": 31,
   "metadata": {
    "execution": {
     "iopub.execute_input": "2021-07-18T17:16:36.917312Z",
     "iopub.status.busy": "2021-07-18T17:16:36.917009Z",
     "iopub.status.idle": "2021-07-18T17:16:37.244278Z",
     "shell.execute_reply": "2021-07-18T17:16:37.243009Z",
     "shell.execute_reply.started": "2021-07-18T17:16:36.917281Z"
    },
    "id": "uSDFG4FiDZGH",
    "outputId": "3e88d1a4-4294-4a1b-ea58-416863238ab1"
   },
   "outputs": [
    {
     "data": {
      "text/plain": [
       "<matplotlib.legend.Legend at 0x219b0dfcc48>"
      ]
     },
     "execution_count": 31,
     "metadata": {},
     "output_type": "execute_result"
    },
    {
     "data": {
      "image/png": "[encoded data removed]",
      "text/plain": [
       "<Figure size 1152x432 with 1 Axes>"
      ]
     },
     "metadata": {
      "needs_background": "light"
     },
     "output_type": "display_data"
    }
   ],
   "source": [
    "plt.figure(figsize=(16,6))\n",
    "sns.countplot(x=df['Marital_status'], hue=df.Income)\n",
    "plt.title(\"\")\n",
    "plt.xlabel('Work Class')\n",
    "plt.ylabel('Count')\n",
    "plt.legend()"
   ]
  },
  {
   "cell_type": "code",
   "execution_count": 32,
   "metadata": {
    "execution": {
     "iopub.execute_input": "2021-07-18T17:16:37.246001Z",
     "iopub.status.busy": "2021-07-18T17:16:37.245695Z",
     "iopub.status.idle": "2021-07-18T17:16:37.256239Z",
     "shell.execute_reply": "2021-07-18T17:16:37.254912Z",
     "shell.execute_reply.started": "2021-07-18T17:16:37.245956Z"
    },
    "id": "s-6QRtZuEhgZ",
    "outputId": "2d366f46-0b0f-4d01-ab76-0db26cfea381"
   },
   "outputs": [
    {
     "data": {
      "text/plain": [
       "array([' Exec-managerial', ' Handlers-cleaners', ' Prof-specialty',\n",
       "       ' Other-service', ' Adm-clerical', ' Sales', ' Craft-repair',\n",
       "       ' Transport-moving', ' Farming-fishing', ' Machine-op-inspct',\n",
       "       ' Tech-support', ' ?', ' Protective-serv', ' Armed-Forces',\n",
       "       ' Priv-house-serv'], dtype=object)"
      ]
     },
     "execution_count": 32,
     "metadata": {},
     "output_type": "execute_result"
    }
   ],
   "source": [
    "df.Occupation.unique()"
   ]
  },
  {
   "cell_type": "code",
   "execution_count": 33,
   "metadata": {
    "execution": {
     "iopub.execute_input": "2021-07-18T17:16:37.257961Z",
     "iopub.status.busy": "2021-07-18T17:16:37.257648Z",
     "iopub.status.idle": "2021-07-18T17:16:37.27242Z",
     "shell.execute_reply": "2021-07-18T17:16:37.271046Z",
     "shell.execute_reply.started": "2021-07-18T17:16:37.257931Z"
    },
    "id": "xpPe437UGhbi",
    "outputId": "5e53d442-9f09-4f58-c55d-c8914ce006c5"
   },
   "outputs": [
    {
     "data": {
      "text/plain": [
       "array([' Husband', ' Not-in-family', ' Wife', ' Own-child', ' Unmarried',\n",
       "       ' Other-relative'], dtype=object)"
      ]
     },
     "execution_count": 33,
     "metadata": {},
     "output_type": "execute_result"
    }
   ],
   "source": [
    "df['Relationship'].unique()"
   ]
  },
  {
   "cell_type": "code",
   "execution_count": 34,
   "metadata": {
    "execution": {
     "iopub.execute_input": "2021-07-18T17:16:37.274528Z",
     "iopub.status.busy": "2021-07-18T17:16:37.274099Z",
     "iopub.status.idle": "2021-07-18T17:16:37.490707Z",
     "shell.execute_reply": "2021-07-18T17:16:37.489548Z",
     "shell.execute_reply.started": "2021-07-18T17:16:37.274484Z"
    },
    "id": "YBey3plV2PFu",
    "outputId": "de51636f-2f43-4ad4-de8f-a096eeb48581"
   },
   "outputs": [
    {
     "data": {
      "text/plain": [
       "Text(0.5, 1.0, 'Relationships')"
      ]
     },
     "execution_count": 34,
     "metadata": {},
     "output_type": "execute_result"
    },
    {
     "data": {
      "image/png": "[encoded data removed]",
      "text/plain": [
       "<Figure size 720x576 with 1 Axes>"
      ]
     },
     "metadata": {},
     "output_type": "display_data"
    }
   ],
   "source": [
    "data = df['Relationship'].value_counts()\n",
    "plt.figure(figsize=(10,8))\n",
    "data.plot.pie(autopct=\"%.1f%%\")\n",
    "plt.title('Relationships')"
   ]
  },
  {
   "cell_type": "code",
   "execution_count": 36,
   "metadata": {
    "execution": {
     "iopub.execute_input": "2021-07-18T17:16:37.49241Z",
     "iopub.status.busy": "2021-07-18T17:16:37.492109Z",
     "iopub.status.idle": "2021-07-18T17:16:37.79632Z",
     "shell.execute_reply": "2021-07-18T17:16:37.795225Z",
     "shell.execute_reply.started": "2021-07-18T17:16:37.492373Z"
    },
    "id": "vVe3BGyhJQNd",
    "outputId": "b4a6e8f8-98eb-4192-a4fd-0905d7f470fb"
   },
   "outputs": [
    {
     "data": {
      "text/plain": [
       "<matplotlib.legend.Legend at 0x219b0e18cc8>"
      ]
     },
     "execution_count": 36,
     "metadata": {},
     "output_type": "execute_result"
    },
    {
     "data": {
      "image/png": "[encoded data removed]",
      "text/plain": [
       "<Figure size 1152x432 with 1 Axes>"
      ]
     },
     "metadata": {
      "needs_background": "light"
     },
     "output_type": "display_data"
    }
   ],
   "source": [
    "plt.figure(figsize=(16,6))\n",
    "sns.countplot(x=df.Race, hue=df.Income)\n",
    "plt.title(\"\")\n",
    "plt.xlabel('Work Class')\n",
    "plt.ylabel('Count')\n",
    "plt.legend()"
   ]
  },
  {
   "cell_type": "code",
   "execution_count": 40,
   "metadata": {
    "execution": {
     "iopub.execute_input": "2021-07-18T17:16:37.798251Z",
     "iopub.status.busy": "2021-07-18T17:16:37.797815Z",
     "iopub.status.idle": "2021-07-18T17:16:37.900439Z",
     "shell.execute_reply": "2021-07-18T17:16:37.899214Z",
     "shell.execute_reply.started": "2021-07-18T17:16:37.798198Z"
    },
    "id": "dzO5imnEKP1N",
    "outputId": "726fe05d-a4d2-4717-d229-bd53b1ea8819"
   },
   "outputs": [
    {
     "name": "stdout",
     "output_type": "stream",
     "text": [
      "Percentage of race who earn >50K \n",
      " White\n",
      "0.0\n",
      " Black\n",
      "0.0\n",
      " Asian-Pac-Islander\n",
      "0.0\n",
      " Amer-Indian-Eskimo\n",
      "0.0\n",
      " Other\n",
      "0.0\n"
     ]
    }
   ],
   "source": [
    "race = df.Race.unique()\n",
    "\n",
    "print('Percentage of race who earn >50K ')\n",
    "for i in race:\n",
    "  val = len(df[(df.Race == i) & (df.Income == '>50K')])\n",
    "  tot = len(df[df.Race == i])\n",
    "  print(i)\n",
    "  print((val/tot)*100)"
   ]
  },
  {
   "cell_type": "code",
   "execution_count": 42,
   "metadata": {
    "execution": {
     "iopub.execute_input": "2021-07-18T17:16:37.902227Z",
     "iopub.status.busy": "2021-07-18T17:16:37.901857Z",
     "iopub.status.idle": "2021-07-18T17:16:38.431324Z",
     "shell.execute_reply": "2021-07-18T17:16:38.43029Z",
     "shell.execute_reply.started": "2021-07-18T17:16:37.902192Z"
    },
    "id": "Who27nlVKvkN",
    "outputId": "1a4499d7-4466-4e11-dec8-a2e375d6477d"
   },
   "outputs": [
    {
     "data": {
      "image/png": "[encoded data removed]",
      "text/plain": [
       "<Figure size 432x288 with 1 Axes>"
      ]
     },
     "metadata": {
      "needs_background": "light"
     },
     "output_type": "display_data"
    }
   ],
   "source": [
    "# KDE plot \n",
    "sns.kdeplot(data=df['Capital_gain'], shade=True)\n",
    "plt.show()"
   ]
  },
  {
   "cell_type": "code",
   "execution_count": 43,
   "metadata": {
    "execution": {
     "iopub.execute_input": "2021-07-18T17:16:38.434929Z",
     "iopub.status.busy": "2021-07-18T17:16:38.434616Z",
     "iopub.status.idle": "2021-07-18T17:16:38.85832Z",
     "shell.execute_reply": "2021-07-18T17:16:38.857109Z",
     "shell.execute_reply.started": "2021-07-18T17:16:38.434899Z"
    },
    "id": "F9YKNohUo6S0",
    "outputId": "343dad15-d8bd-409b-a52c-38dfc74e700f"
   },
   "outputs": [
    {
     "data": {
      "text/plain": [
       "<matplotlib.axes._subplots.AxesSubplot at 0x219b2d64b88>"
      ]
     },
     "execution_count": 43,
     "metadata": {},
     "output_type": "execute_result"
    },
    {
     "data": {
      "image/png": "[encoded data removed]",
      "text/plain": [
       "<Figure size 432x288 with 1 Axes>"
      ]
     },
     "metadata": {
      "needs_background": "light"
     },
     "output_type": "display_data"
    }
   ],
   "source": [
    "sns.kdeplot(data=df['Hours_per_week'], shade=True)"
   ]
  },
  {
   "cell_type": "code",
   "execution_count": null,
   "metadata": {
    "execution": {
     "iopub.execute_input": "2021-07-18T17:16:38.860289Z",
     "iopub.status.busy": "2021-07-18T17:16:38.859936Z",
     "iopub.status.idle": "2021-07-18T17:16:38.869974Z",
     "shell.execute_reply": "2021-07-18T17:16:38.86879Z",
     "shell.execute_reply.started": "2021-07-18T17:16:38.860258Z"
    },
    "id": "g819vUaVph9R",
    "outputId": "03e53994-76a5-47b8-aab5-b4be70c07678"
   },
   "outputs": [],
   "source": [
    "df['Native_country'].unique()"
   ]
  },
  {
   "cell_type": "code",
   "execution_count": 44,
   "metadata": {
    "execution": {
     "iopub.execute_input": "2021-07-18T17:18:19.846576Z",
     "iopub.status.busy": "2021-07-18T17:18:19.846047Z",
     "iopub.status.idle": "2021-07-18T17:18:20.834528Z",
     "shell.execute_reply": "2021-07-18T17:18:20.833306Z",
     "shell.execute_reply.started": "2021-07-18T17:18:19.846528Z"
    },
    "id": "PuBlELPW1m1T",
    "outputId": "4ca79242-bb09-4856-8d6c-c1d9f0ea4d17"
   },
   "outputs": [
    {
     "data": {
      "text/plain": [
       "Text(0.5, 1.0, 'Native_country')"
      ]
     },
     "execution_count": 44,
     "metadata": {},
     "output_type": "execute_result"
    },
    {
     "data": {
      "image/png": "[encoded data removed]",
      "text/plain": [
       "<Figure size 720x720 with 1 Axes>"
      ]
     },
     "metadata": {},
     "output_type": "display_data"
    }
   ],
   "source": [
    "data = df['Native_country'].value_counts()\n",
    "plt.figure(figsize=(10,10))\n",
    "data.plot.pie(autopct=\"%.1f%%\")\n",
    "plt.title('Native_country')"
   ]
  },
  {
   "cell_type": "code",
   "execution_count": 46,
   "metadata": {
    "execution": {
     "iopub.execute_input": "2021-07-18T17:16:39.623495Z",
     "iopub.status.busy": "2021-07-18T17:16:39.623193Z",
     "iopub.status.idle": "2021-07-18T17:16:39.824123Z",
     "shell.execute_reply": "2021-07-18T17:16:39.823111Z",
     "shell.execute_reply.started": "2021-07-18T17:16:39.623465Z"
    },
    "id": "wlDgIdTnzUUC",
    "outputId": "64940cb0-7f8c-4e50-afe8-6660e4ba4710"
   },
   "outputs": [
    {
     "name": "stderr",
     "output_type": "stream",
     "text": [
      "No handles with labels found to put in legend.\n"
     ]
    },
    {
     "data": {
      "text/plain": [
       "<matplotlib.legend.Legend at 0x219b33d3a08>"
      ]
     },
     "execution_count": 46,
     "metadata": {},
     "output_type": "execute_result"
    },
    {
     "data": {
      "image/png": "[encoded data removed]",
      "text/plain": [
       "<Figure size 1152x432 with 1 Axes>"
      ]
     },
     "metadata": {
      "needs_background": "light"
     },
     "output_type": "display_data"
    }
   ],
   "source": [
    "inc = df.Income.value_counts()\n",
    "plt.figure(figsize=(16,6))\n",
    "sns.countplot(x=df['Income'])\n",
    "plt.title(\"\")\n",
    "plt.xlabel('Income')\n",
    "plt.ylabel('Count')\n",
    "plt.legend()"
   ]
  },
  {
   "cell_type": "code",
   "execution_count": 47,
   "metadata": {
    "execution": {
     "iopub.execute_input": "2021-07-18T17:16:39.82565Z",
     "iopub.status.busy": "2021-07-18T17:16:39.825348Z",
     "iopub.status.idle": "2021-07-18T17:16:39.833323Z",
     "shell.execute_reply": "2021-07-18T17:16:39.83214Z",
     "shell.execute_reply.started": "2021-07-18T17:16:39.82562Z"
    },
    "id": "lHipsPRc3R5G",
    "outputId": "2b12a354-2a57-434f-cac7-8002af4a493a"
   },
   "outputs": [
    {
     "data": {
      "text/plain": [
       "Index(['Age', 'Workclass', 'Fnlwgt', 'Education', 'Education_num',\n",
       "       'Marital_status', 'Occupation', 'Relationship', 'Race', 'Sex',\n",
       "       'Capital_gain', 'Capital_loss', 'Hours_per_week', 'Native_country',\n",
       "       'Income'],\n",
       "      dtype='object')"
      ]
     },
     "execution_count": 47,
     "metadata": {},
     "output_type": "execute_result"
    }
   ],
   "source": [
    "df.columns"
   ]
  },
  {
   "cell_type": "code",
   "execution_count": 51,
   "metadata": {
    "execution": {
     "iopub.execute_input": "2021-07-18T17:16:39.835217Z",
     "iopub.status.busy": "2021-07-18T17:16:39.834842Z",
     "iopub.status.idle": "2021-07-18T17:16:39.863498Z",
     "shell.execute_reply": "2021-07-18T17:16:39.862496Z",
     "shell.execute_reply.started": "2021-07-18T17:16:39.835186Z"
    },
    "id": "ag5Ky0oH49I9",
    "outputId": "0ca2890b-8a56-4837-ea82-0aa0fd23991f"
   },
   "outputs": [
    {
     "data": {
      "text/html": [
       "<div>\n",
       "<style scoped>\n",
       "    .dataframe tbody tr th:only-of-type {\n",
       "        vertical-align: middle;\n",
       "    }\n",
       "\n",
       "    .dataframe tbody tr th {\n",
       "        vertical-align: top;\n",
       "    }\n",
       "\n",
       "    .dataframe thead th {\n",
       "        text-align: right;\n",
       "    }\n",
       "</style>\n",
       "<table border=\"1\" class=\"dataframe\">\n",
       "  <thead>\n",
       "    <tr style=\"text-align: right;\">\n",
       "      <th></th>\n",
       "      <th>Age</th>\n",
       "      <th>Workclass</th>\n",
       "      <th>Fnlwgt</th>\n",
       "      <th>Education_num</th>\n",
       "      <th>Marital_status</th>\n",
       "      <th>Relationship</th>\n",
       "      <th>Race</th>\n",
       "      <th>Sex</th>\n",
       "      <th>Capital_gain</th>\n",
       "      <th>Capital_loss</th>\n",
       "      <th>Hours_per_week</th>\n",
       "      <th>Native_country</th>\n",
       "    </tr>\n",
       "  </thead>\n",
       "  <tbody>\n",
       "    <tr>\n",
       "      <td>0</td>\n",
       "      <td>50</td>\n",
       "      <td>Self-emp-not-inc</td>\n",
       "      <td>83311</td>\n",
       "      <td>13</td>\n",
       "      <td>Married-civ-spouse</td>\n",
       "      <td>Husband</td>\n",
       "      <td>White</td>\n",
       "      <td>Male</td>\n",
       "      <td>0</td>\n",
       "      <td>0</td>\n",
       "      <td>13</td>\n",
       "      <td>United-States</td>\n",
       "    </tr>\n",
       "    <tr>\n",
       "      <td>1</td>\n",
       "      <td>38</td>\n",
       "      <td>Private</td>\n",
       "      <td>215646</td>\n",
       "      <td>9</td>\n",
       "      <td>Divorced</td>\n",
       "      <td>Not-in-family</td>\n",
       "      <td>White</td>\n",
       "      <td>Male</td>\n",
       "      <td>0</td>\n",
       "      <td>0</td>\n",
       "      <td>40</td>\n",
       "      <td>United-States</td>\n",
       "    </tr>\n",
       "    <tr>\n",
       "      <td>2</td>\n",
       "      <td>53</td>\n",
       "      <td>Private</td>\n",
       "      <td>234721</td>\n",
       "      <td>7</td>\n",
       "      <td>Married-civ-spouse</td>\n",
       "      <td>Husband</td>\n",
       "      <td>Black</td>\n",
       "      <td>Male</td>\n",
       "      <td>0</td>\n",
       "      <td>0</td>\n",
       "      <td>40</td>\n",
       "      <td>United-States</td>\n",
       "    </tr>\n",
       "    <tr>\n",
       "      <td>3</td>\n",
       "      <td>28</td>\n",
       "      <td>Private</td>\n",
       "      <td>338409</td>\n",
       "      <td>13</td>\n",
       "      <td>Married-civ-spouse</td>\n",
       "      <td>Wife</td>\n",
       "      <td>Black</td>\n",
       "      <td>Female</td>\n",
       "      <td>0</td>\n",
       "      <td>0</td>\n",
       "      <td>40</td>\n",
       "      <td>Cuba</td>\n",
       "    </tr>\n",
       "    <tr>\n",
       "      <td>4</td>\n",
       "      <td>37</td>\n",
       "      <td>Private</td>\n",
       "      <td>284582</td>\n",
       "      <td>14</td>\n",
       "      <td>Married-civ-spouse</td>\n",
       "      <td>Wife</td>\n",
       "      <td>White</td>\n",
       "      <td>Female</td>\n",
       "      <td>0</td>\n",
       "      <td>0</td>\n",
       "      <td>40</td>\n",
       "      <td>United-States</td>\n",
       "    </tr>\n",
       "  </tbody>\n",
       "</table>\n",
       "</div>"
      ],
      "text/plain": [
       "   Age          Workclass  Fnlwgt  Education_num       Marital_status  \\\n",
       "0   50   Self-emp-not-inc   83311             13   Married-civ-spouse   \n",
       "1   38            Private  215646              9             Divorced   \n",
       "2   53            Private  234721              7   Married-civ-spouse   \n",
       "3   28            Private  338409             13   Married-civ-spouse   \n",
       "4   37            Private  284582             14   Married-civ-spouse   \n",
       "\n",
       "     Relationship    Race      Sex  Capital_gain  Capital_loss  \\\n",
       "0         Husband   White     Male             0             0   \n",
       "1   Not-in-family   White     Male             0             0   \n",
       "2         Husband   Black     Male             0             0   \n",
       "3            Wife   Black   Female             0             0   \n",
       "4            Wife   White   Female             0             0   \n",
       "\n",
       "   Hours_per_week  Native_country  \n",
       "0              13   United-States  \n",
       "1              40   United-States  \n",
       "2              40   United-States  \n",
       "3              40            Cuba  \n",
       "4              40   United-States  "
      ]
     },
     "execution_count": 51,
     "metadata": {},
     "output_type": "execute_result"
    }
   ],
   "source": [
    "X = df.drop(['Education', 'Income', 'Occupation'], axis='columns')\n",
    "y = df.Income\n",
    "\n",
    "X.head()"
   ]
  },
  {
   "cell_type": "code",
   "execution_count": 52,
   "metadata": {
    "execution": {
     "iopub.execute_input": "2021-07-18T17:16:39.865083Z",
     "iopub.status.busy": "2021-07-18T17:16:39.864766Z",
     "iopub.status.idle": "2021-07-18T17:16:40.082512Z",
     "shell.execute_reply": "2021-07-18T17:16:40.081399Z",
     "shell.execute_reply.started": "2021-07-18T17:16:39.865052Z"
    },
    "id": "1gejJlA07meh",
    "outputId": "a7264ff9-1f01-485e-a125-c36746528b8a"
   },
   "outputs": [
    {
     "data": {
      "text/html": [
       "<div>\n",
       "<style scoped>\n",
       "    .dataframe tbody tr th:only-of-type {\n",
       "        vertical-align: middle;\n",
       "    }\n",
       "\n",
       "    .dataframe tbody tr th {\n",
       "        vertical-align: top;\n",
       "    }\n",
       "\n",
       "    .dataframe thead th {\n",
       "        text-align: right;\n",
       "    }\n",
       "</style>\n",
       "<table border=\"1\" class=\"dataframe\">\n",
       "  <thead>\n",
       "    <tr style=\"text-align: right;\">\n",
       "      <th></th>\n",
       "      <th>Age</th>\n",
       "      <th>Workclass</th>\n",
       "      <th>Fnlwgt</th>\n",
       "      <th>Education_num</th>\n",
       "      <th>Marital_status</th>\n",
       "      <th>Relationship</th>\n",
       "      <th>Race</th>\n",
       "      <th>Sex</th>\n",
       "      <th>Capital_gain</th>\n",
       "      <th>Capital_loss</th>\n",
       "      <th>Hours_per_week</th>\n",
       "      <th>Native_country</th>\n",
       "    </tr>\n",
       "  </thead>\n",
       "  <tbody>\n",
       "    <tr>\n",
       "      <td>0</td>\n",
       "      <td>50</td>\n",
       "      <td>6</td>\n",
       "      <td>83311</td>\n",
       "      <td>13</td>\n",
       "      <td>2</td>\n",
       "      <td>0</td>\n",
       "      <td>4</td>\n",
       "      <td>1</td>\n",
       "      <td>0</td>\n",
       "      <td>0</td>\n",
       "      <td>13</td>\n",
       "      <td>39</td>\n",
       "    </tr>\n",
       "    <tr>\n",
       "      <td>1</td>\n",
       "      <td>38</td>\n",
       "      <td>4</td>\n",
       "      <td>215646</td>\n",
       "      <td>9</td>\n",
       "      <td>0</td>\n",
       "      <td>1</td>\n",
       "      <td>4</td>\n",
       "      <td>1</td>\n",
       "      <td>0</td>\n",
       "      <td>0</td>\n",
       "      <td>40</td>\n",
       "      <td>39</td>\n",
       "    </tr>\n",
       "    <tr>\n",
       "      <td>2</td>\n",
       "      <td>53</td>\n",
       "      <td>4</td>\n",
       "      <td>234721</td>\n",
       "      <td>7</td>\n",
       "      <td>2</td>\n",
       "      <td>0</td>\n",
       "      <td>2</td>\n",
       "      <td>1</td>\n",
       "      <td>0</td>\n",
       "      <td>0</td>\n",
       "      <td>40</td>\n",
       "      <td>39</td>\n",
       "    </tr>\n",
       "    <tr>\n",
       "      <td>3</td>\n",
       "      <td>28</td>\n",
       "      <td>4</td>\n",
       "      <td>338409</td>\n",
       "      <td>13</td>\n",
       "      <td>2</td>\n",
       "      <td>5</td>\n",
       "      <td>2</td>\n",
       "      <td>0</td>\n",
       "      <td>0</td>\n",
       "      <td>0</td>\n",
       "      <td>40</td>\n",
       "      <td>5</td>\n",
       "    </tr>\n",
       "    <tr>\n",
       "      <td>4</td>\n",
       "      <td>37</td>\n",
       "      <td>4</td>\n",
       "      <td>284582</td>\n",
       "      <td>14</td>\n",
       "      <td>2</td>\n",
       "      <td>5</td>\n",
       "      <td>4</td>\n",
       "      <td>0</td>\n",
       "      <td>0</td>\n",
       "      <td>0</td>\n",
       "      <td>40</td>\n",
       "      <td>39</td>\n",
       "    </tr>\n",
       "  </tbody>\n",
       "</table>\n",
       "</div>"
      ],
      "text/plain": [
       "   Age  Workclass  Fnlwgt  Education_num  Marital_status  Relationship  Race  \\\n",
       "0   50          6   83311             13               2             0     4   \n",
       "1   38          4  215646              9               0             1     4   \n",
       "2   53          4  234721              7               2             0     2   \n",
       "3   28          4  338409             13               2             5     2   \n",
       "4   37          4  284582             14               2             5     4   \n",
       "\n",
       "   Sex  Capital_gain  Capital_loss  Hours_per_week  Native_country  \n",
       "0    1             0             0              13              39  \n",
       "1    1             0             0              40              39  \n",
       "2    1             0             0              40              39  \n",
       "3    0             0             0              40               5  \n",
       "4    0             0             0              40              39  "
      ]
     },
     "execution_count": 52,
     "metadata": {},
     "output_type": "execute_result"
    }
   ],
   "source": [
    "from sklearn.preprocessing import LabelEncoder\n",
    "le = LabelEncoder()\n",
    "col = ['Workclass', 'Marital_status', 'Relationship', 'Race', 'Sex', 'Native_country']\n",
    "for i in col:\n",
    "  X[i] = le.fit_transform(X[i])\n",
    "\n",
    "X.head()"
   ]
  },
  {
   "cell_type": "code",
   "execution_count": 54,
   "metadata": {
    "execution": {
     "iopub.execute_input": "2021-07-18T17:16:40.084826Z",
     "iopub.status.busy": "2021-07-18T17:16:40.084333Z",
     "iopub.status.idle": "2021-07-18T17:16:40.172141Z",
     "shell.execute_reply": "2021-07-18T17:16:40.170938Z",
     "shell.execute_reply.started": "2021-07-18T17:16:40.084778Z"
    },
    "id": "GqS4QhgU_YV2",
    "outputId": "180b3317-23e3-439f-f231-9cc48711b6e2"
   },
   "outputs": [
    {
     "data": {
      "text/html": [
       "<div>\n",
       "<style scoped>\n",
       "    .dataframe tbody tr th:only-of-type {\n",
       "        vertical-align: middle;\n",
       "    }\n",
       "\n",
       "    .dataframe tbody tr th {\n",
       "        vertical-align: top;\n",
       "    }\n",
       "\n",
       "    .dataframe thead th {\n",
       "        text-align: right;\n",
       "    }\n",
       "</style>\n",
       "<table border=\"1\" class=\"dataframe\">\n",
       "  <thead>\n",
       "    <tr style=\"text-align: right;\">\n",
       "      <th></th>\n",
       "      <th>Age</th>\n",
       "      <th>Workclass</th>\n",
       "      <th>Fnlwgt</th>\n",
       "      <th>Education_num</th>\n",
       "      <th>Marital_status</th>\n",
       "      <th>Relationship</th>\n",
       "      <th>Race</th>\n",
       "      <th>Sex</th>\n",
       "      <th>Capital_gain</th>\n",
       "      <th>Capital_loss</th>\n",
       "      <th>Hours_per_week</th>\n",
       "      <th>Native_country</th>\n",
       "    </tr>\n",
       "  </thead>\n",
       "  <tbody>\n",
       "    <tr>\n",
       "      <td>0</td>\n",
       "      <td>0.452055</td>\n",
       "      <td>6</td>\n",
       "      <td>0.048238</td>\n",
       "      <td>13</td>\n",
       "      <td>2</td>\n",
       "      <td>0</td>\n",
       "      <td>4</td>\n",
       "      <td>1</td>\n",
       "      <td>0.0</td>\n",
       "      <td>0.0</td>\n",
       "      <td>0.122449</td>\n",
       "      <td>39</td>\n",
       "    </tr>\n",
       "    <tr>\n",
       "      <td>1</td>\n",
       "      <td>0.287671</td>\n",
       "      <td>4</td>\n",
       "      <td>0.138113</td>\n",
       "      <td>9</td>\n",
       "      <td>0</td>\n",
       "      <td>1</td>\n",
       "      <td>4</td>\n",
       "      <td>1</td>\n",
       "      <td>0.0</td>\n",
       "      <td>0.0</td>\n",
       "      <td>0.397959</td>\n",
       "      <td>39</td>\n",
       "    </tr>\n",
       "    <tr>\n",
       "      <td>2</td>\n",
       "      <td>0.493151</td>\n",
       "      <td>4</td>\n",
       "      <td>0.151068</td>\n",
       "      <td>7</td>\n",
       "      <td>2</td>\n",
       "      <td>0</td>\n",
       "      <td>2</td>\n",
       "      <td>1</td>\n",
       "      <td>0.0</td>\n",
       "      <td>0.0</td>\n",
       "      <td>0.397959</td>\n",
       "      <td>39</td>\n",
       "    </tr>\n",
       "    <tr>\n",
       "      <td>3</td>\n",
       "      <td>0.150685</td>\n",
       "      <td>4</td>\n",
       "      <td>0.221488</td>\n",
       "      <td>13</td>\n",
       "      <td>2</td>\n",
       "      <td>5</td>\n",
       "      <td>2</td>\n",
       "      <td>0</td>\n",
       "      <td>0.0</td>\n",
       "      <td>0.0</td>\n",
       "      <td>0.397959</td>\n",
       "      <td>5</td>\n",
       "    </tr>\n",
       "    <tr>\n",
       "      <td>4</td>\n",
       "      <td>0.273973</td>\n",
       "      <td>4</td>\n",
       "      <td>0.184932</td>\n",
       "      <td>14</td>\n",
       "      <td>2</td>\n",
       "      <td>5</td>\n",
       "      <td>4</td>\n",
       "      <td>0</td>\n",
       "      <td>0.0</td>\n",
       "      <td>0.0</td>\n",
       "      <td>0.397959</td>\n",
       "      <td>39</td>\n",
       "    </tr>\n",
       "  </tbody>\n",
       "</table>\n",
       "</div>"
      ],
      "text/plain": [
       "        Age  Workclass    Fnlwgt  Education_num  Marital_status  Relationship  \\\n",
       "0  0.452055          6  0.048238             13               2             0   \n",
       "1  0.287671          4  0.138113              9               0             1   \n",
       "2  0.493151          4  0.151068              7               2             0   \n",
       "3  0.150685          4  0.221488             13               2             5   \n",
       "4  0.273973          4  0.184932             14               2             5   \n",
       "\n",
       "   Race  Sex  Capital_gain  Capital_loss  Hours_per_week  Native_country  \n",
       "0     4    1           0.0           0.0        0.122449              39  \n",
       "1     4    1           0.0           0.0        0.397959              39  \n",
       "2     2    1           0.0           0.0        0.397959              39  \n",
       "3     2    0           0.0           0.0        0.397959               5  \n",
       "4     4    0           0.0           0.0        0.397959              39  "
      ]
     },
     "execution_count": 54,
     "metadata": {},
     "output_type": "execute_result"
    }
   ],
   "source": [
    "from sklearn.preprocessing import MinMaxScaler\n",
    "scaler = MinMaxScaler()\n",
    "cols = ['Age', 'Fnlwgt', 'Capital_gain', 'Capital_loss', 'Hours_per_week']\n",
    "X[cols] = scaler.fit_transform(X[cols])\n",
    "\n",
    "X.head()"
   ]
  },
  {
   "cell_type": "code",
   "execution_count": 56,
   "metadata": {
    "execution": {
     "iopub.execute_input": "2021-07-18T17:16:40.17402Z",
     "iopub.status.busy": "2021-07-18T17:16:40.173697Z",
     "iopub.status.idle": "2021-07-18T17:16:40.188888Z",
     "shell.execute_reply": "2021-07-18T17:16:40.188092Z",
     "shell.execute_reply.started": "2021-07-18T17:16:40.173989Z"
    },
    "id": "XuEnpNHzBLrL"
   },
   "outputs": [],
   "source": [
    "y = le.fit_transform(y)"
   ]
  },
  {
   "cell_type": "code",
   "execution_count": 57,
   "metadata": {
    "execution": {
     "iopub.execute_input": "2021-07-18T17:16:40.190235Z",
     "iopub.status.busy": "2021-07-18T17:16:40.189883Z",
     "iopub.status.idle": "2021-07-18T17:16:40.25992Z",
     "shell.execute_reply": "2021-07-18T17:16:40.258998Z",
     "shell.execute_reply.started": "2021-07-18T17:16:40.190201Z"
    },
    "id": "Txdray6L_-re"
   },
   "outputs": [],
   "source": [
    "from sklearn.model_selection import train_test_split\n",
    "X_train, X_test, y_train, y_test = train_test_split(X, y, test_size=0.2, random_state=5)"
   ]
  },
  {
   "cell_type": "code",
   "execution_count": 58,
   "metadata": {
    "execution": {
     "iopub.execute_input": "2021-07-18T17:16:40.263924Z",
     "iopub.status.busy": "2021-07-18T17:16:40.263597Z",
     "iopub.status.idle": "2021-07-18T17:16:42.511089Z",
     "shell.execute_reply": "2021-07-18T17:16:42.510069Z",
     "shell.execute_reply.started": "2021-07-18T17:16:40.263892Z"
    },
    "id": "Q75Wur8UAVqV",
    "outputId": "697cceea-2c71-4cfb-c63d-66f9a9051947"
   },
   "outputs": [
    {
     "data": {
      "text/plain": [
       "LogisticRegression(max_iter=10000)"
      ]
     },
     "execution_count": 58,
     "metadata": {},
     "output_type": "execute_result"
    }
   ],
   "source": [
    "from sklearn.linear_model import LogisticRegression\n",
    "lr = LogisticRegression(solver='lbfgs', max_iter=10000)\n",
    "lr.fit(X_train, y_train)"
   ]
  },
  {
   "cell_type": "code",
   "execution_count": 60,
   "metadata": {
    "execution": {
     "iopub.execute_input": "2021-07-18T17:16:42.513668Z",
     "iopub.status.busy": "2021-07-18T17:16:42.512964Z",
     "iopub.status.idle": "2021-07-18T17:16:42.526665Z",
     "shell.execute_reply": "2021-07-18T17:16:42.525655Z",
     "shell.execute_reply.started": "2021-07-18T17:16:42.51362Z"
    },
    "id": "euTF0MgEA-AQ",
    "outputId": "3b2845e5-62f3-4243-e4bc-0d273f35462f"
   },
   "outputs": [
    {
     "data": {
      "text/plain": [
       "array([0, 0, 1, ..., 1, 0, 0], dtype=int64)"
      ]
     },
     "execution_count": 60,
     "metadata": {},
     "output_type": "execute_result"
    }
   ],
   "source": [
    "pred = lr.predict(X_test)\n",
    "pred"
   ]
  },
  {
   "cell_type": "code",
   "execution_count": 61,
   "metadata": {
    "execution": {
     "iopub.execute_input": "2021-07-18T17:16:42.52954Z",
     "iopub.status.busy": "2021-07-18T17:16:42.528824Z",
     "iopub.status.idle": "2021-07-18T17:16:42.562511Z",
     "shell.execute_reply": "2021-07-18T17:16:42.561451Z",
     "shell.execute_reply.started": "2021-07-18T17:16:42.529493Z"
    },
    "id": "joj-N9RxBeUg",
    "outputId": "74f6642b-7711-4382-eefe-151507a7ca76"
   },
   "outputs": [
    {
     "name": "stdout",
     "output_type": "stream",
     "text": [
      "              precision    recall  f1-score   support\n",
      "\n",
      "           0       0.85      0.94      0.90      5003\n",
      "           1       0.71      0.46      0.56      1509\n",
      "\n",
      "    accuracy                           0.83      6512\n",
      "   macro avg       0.78      0.70      0.73      6512\n",
      "weighted avg       0.82      0.83      0.82      6512\n",
      "\n"
     ]
    }
   ],
   "source": [
    "from sklearn.metrics import classification_report\n",
    "\n",
    "print(classification_report(y_test, pred))"
   ]
  },
  {
   "cell_type": "code",
   "execution_count": null,
   "metadata": {},
   "outputs": [],
   "source": []
  }
 ],
 "metadata": {
  "kernelspec": {
   "display_name": "Python 3",
   "language": "python",
   "name": "python3"
  },
  "language_info": {
   "codemirror_mode": {
    "name": "ipython",
    "version": 3
   },
   "file_extension": ".py",
   "mimetype": "text/x-python",
   "name": "python",
   "nbconvert_exporter": "python",
   "pygments_lexer": "ipython3",
   "version": "3.7.4"
  }
 },
 "nbformat": 4,
 "nbformat_minor": 4
}
